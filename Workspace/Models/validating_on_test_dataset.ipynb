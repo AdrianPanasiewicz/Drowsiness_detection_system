{
 "cells": [
  {
   "metadata": {},
   "cell_type": "markdown",
   "source": "# Sprawdzenie modelu na testowym dataset\n",
   "id": "1fc234d79c86e44a"
  },
  {
   "metadata": {
    "ExecuteTime": {
     "end_time": "2025-01-05T23:17:00.308512Z",
     "start_time": "2025-01-05T23:17:00.172282Z"
    }
   },
   "cell_type": "code",
   "source": [
    "import pathlib\n",
    "from joblib import load\n",
    "import pandas as pd\n",
    "from fastai.tabular.all import *\n",
    "\n",
    "pathlib.PosixPath = pathlib.WindowsPath\n",
    "\n",
    "with open(r\"random_forest_drowsiness_model.pkl\", \"rb\") as input_file:\n",
    "    rf = load(input_file)\n",
    "\n",
    "nn = load_learner(r\"nn_drowsiness_model.pkl\")\n",
    "\n",
    "path = Path(r'E:\\Szkoła i Studia\\Mechatronika\\Semestr 7\\Praca dyplomowa\\Dataset\\tabular_database\\excel_files')\n",
    "\n",
    "test_df = pd.read_excel(path/'testing_data.xlsx')"
   ],
   "id": "7a4ee05e9a5da47",
   "outputs": [],
   "execution_count": 175
  },
  {
   "metadata": {},
   "cell_type": "markdown",
   "source": "# Przygotowanie danych",
   "id": "af440d716f8d31f6"
  },
  {
   "metadata": {
    "ExecuteTime": {
     "end_time": "2025-01-05T23:17:00.340265Z",
     "start_time": "2025-01-05T23:17:00.319071Z"
    }
   },
   "cell_type": "code",
   "source": [
    "def proc_data(df):\n",
    "    df['Yawning'] = pd.Categorical(df.Yawning)\n",
    "    df['Drowsy'] = pd.Categorical(df.Drowsy)\n",
    "    df = df.drop(columns = [\"Column1\", \"Image\"])\n",
    "    df = df.drop(columns = [\"Yawning\"])\n",
    "    df = df.rename(columns={\"Drowsy\": \"Is_drowsy\"})\n",
    "    return df\n",
    "\n",
    "test_df = proc_data(test_df)\n",
    "print(test_df.head())"
   ],
   "id": "d654acbdf6398901",
   "outputs": [
    {
     "name": "stdout",
     "output_type": "stream",
     "text": [
      "        MAR       Roll     Pitch       EAR   Is_drowsy\n",
      "0  0.194474  -2.670679 -3.569557  0.213012      Drowsy\n",
      "1  0.120848  25.391328 -7.526830  0.326617  Not_drowsy\n",
      "2  0.192915 -61.439218  2.194628  0.315493  Not_drowsy\n",
      "3  0.250130  55.942234  2.336539  0.312477  Not_drowsy\n",
      "4  0.243395  15.073668  4.767441  0.311291  Not_drowsy\n"
     ]
    }
   ],
   "execution_count": 176
  },
  {
   "metadata": {
    "ExecuteTime": {
     "end_time": "2025-01-05T23:17:00.401148Z",
     "start_time": "2025-01-05T23:17:00.387865Z"
    }
   },
   "cell_type": "code",
   "source": [
    "def xs_y(df):\n",
    "    xs = df[continuous].copy()\n",
    "    return xs, df[dependant] if dependant in df else None\n",
    "\n",
    "continuous = ['MAR', 'EAR', 'Roll', 'Pitch']\n",
    "dependant = 'Is_drowsy'\n",
    "\n",
    "test_xs, test_y = xs_y(test_df)\n",
    "\n",
    "test_dl = nn.dls.test_dl(test_df)"
   ],
   "id": "4f77ce84b2929590",
   "outputs": [],
   "execution_count": 177
  },
  {
   "metadata": {},
   "cell_type": "markdown",
   "source": "# Testowanie modeli",
   "id": "1222590773bbb56c"
  },
  {
   "metadata": {},
   "cell_type": "markdown",
   "source": "## Losowy las decyzyjny",
   "id": "b8b5ac6ceec909dd"
  },
  {
   "metadata": {
    "ExecuteTime": {
     "end_time": "2025-01-05T23:17:00.462363Z",
     "start_time": "2025-01-05T23:17:00.449690Z"
    }
   },
   "cell_type": "code",
   "source": [
    "from sklearn.metrics import accuracy_score\n",
    "from sklearn.metrics import classification_report\n",
    "from sklearn.metrics import confusion_matrix"
   ],
   "id": "d58798989700b8be",
   "outputs": [],
   "execution_count": 178
  },
  {
   "metadata": {
    "ExecuteTime": {
     "end_time": "2025-01-05T23:17:00.539832Z",
     "start_time": "2025-01-05T23:17:00.493849Z"
    }
   },
   "cell_type": "code",
   "source": [
    "accuracy_rf = accuracy_score(test_y, rf.predict(test_xs))\n",
    "report_rf = classification_report(test_y, rf.predict(test_xs))\n",
    "cm_rf = confusion_matrix(test_y, rf.predict(test_xs))\n",
    "\n",
    "print(\"Accuracy:\", accuracy_rf)"
   ],
   "id": "c2f5dc9d02118101",
   "outputs": [
    {
     "name": "stdout",
     "output_type": "stream",
     "text": [
      "Accuracy: 0.8947368421052632\n"
     ]
    }
   ],
   "execution_count": 179
  },
  {
   "metadata": {
    "ExecuteTime": {
     "end_time": "2025-01-05T23:17:00.588069Z",
     "start_time": "2025-01-05T23:17:00.574318Z"
    }
   },
   "cell_type": "code",
   "source": "print(\"Classification Report:\\n\", report_rf)",
   "id": "27b0f10c45a34d95",
   "outputs": [
    {
     "name": "stdout",
     "output_type": "stream",
     "text": [
      "Classification Report:\n",
      "               precision    recall  f1-score   support\n",
      "\n",
      "      Drowsy       0.85      0.96      0.90       237\n",
      "  Not_drowsy       0.96      0.83      0.89       238\n",
      "\n",
      "    accuracy                           0.89       475\n",
      "   macro avg       0.90      0.89      0.89       475\n",
      "weighted avg       0.90      0.89      0.89       475\n",
      "\n"
     ]
    }
   ],
   "execution_count": 180
  },
  {
   "metadata": {
    "ExecuteTime": {
     "end_time": "2025-01-05T23:17:00.635382Z",
     "start_time": "2025-01-05T23:17:00.621305Z"
    }
   },
   "cell_type": "code",
   "source": "print(\"Confusion Matrix:\\n\", cm_rf)",
   "id": "1b55d30e24c6cc51",
   "outputs": [
    {
     "name": "stdout",
     "output_type": "stream",
     "text": [
      "Confusion Matrix:\n",
      " [[228   9]\n",
      " [ 41 197]]\n"
     ]
    }
   ],
   "execution_count": 181
  },
  {
   "metadata": {},
   "cell_type": "markdown",
   "source": "## Sieć neuronowa",
   "id": "ef2bac123449e37a"
  },
  {
   "metadata": {
    "ExecuteTime": {
     "end_time": "2025-01-05T23:17:00.760354Z",
     "start_time": "2025-01-05T23:17:00.684008Z"
    }
   },
   "cell_type": "code",
   "source": [
    "preds, targets = nn.get_preds(dl=test_dl)\n",
    "\n",
    "# Calculate metrics\n",
    "test_accuracy = accuracy(preds, targets)\n",
    "test_error_rate = error_rate(preds, targets)\n",
    "\n",
    "print(f\"Test Accuracy: {test_accuracy}\")\n",
    "print(f\"Test Error Rate: {test_error_rate}\")"
   ],
   "id": "ff3b77d1bc72b663",
   "outputs": [
    {
     "data": {
      "text/plain": [
       "<IPython.core.display.HTML object>"
      ],
      "text/html": [
       "\n",
       "<style>\n",
       "    /* Turns off some styling */\n",
       "    progress {\n",
       "        /* gets rid of default border in Firefox and Opera. */\n",
       "        border: none;\n",
       "        /* Needs to be in here for Safari polyfill so background images work as expected. */\n",
       "        background-size: auto;\n",
       "    }\n",
       "    progress:not([value]), progress:not([value])::-webkit-progress-bar {\n",
       "        background: repeating-linear-gradient(45deg, #7e7e7e, #7e7e7e 10px, #5c5c5c 10px, #5c5c5c 20px);\n",
       "    }\n",
       "    .progress-bar-interrupted, .progress-bar-interrupted::-webkit-progress-bar {\n",
       "        background: #F44336;\n",
       "    }\n",
       "</style>\n"
      ]
     },
     "metadata": {},
     "output_type": "display_data"
    },
    {
     "data": {
      "text/plain": [
       "<IPython.core.display.HTML object>"
      ],
      "text/html": []
     },
     "metadata": {},
     "output_type": "display_data"
    },
    {
     "name": "stdout",
     "output_type": "stream",
     "text": [
      "Test Accuracy: TensorBase(0.8716)\n",
      "Test Error Rate: TensorBase(0.1284)\n"
     ]
    }
   ],
   "execution_count": 182
  }
 ],
 "metadata": {
  "kernelspec": {
   "name": "python3",
   "language": "python",
   "display_name": "Python 3 (ipykernel)"
  }
 },
 "nbformat": 5,
 "nbformat_minor": 9
}
