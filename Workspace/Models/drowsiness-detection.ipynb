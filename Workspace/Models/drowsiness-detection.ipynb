{
 "cells": [
  {
   "cell_type": "markdown",
   "id": "ad16d1d8",
   "metadata": {
    "papermill": {
     "duration": 0.009396,
     "end_time": "2025-01-05T20:45:05.380228",
     "exception": false,
     "start_time": "2025-01-05T20:45:05.370832",
     "status": "completed"
    },
    "tags": []
   },
   "source": [
    "# Importowanie plików "
   ]
  },
  {
   "cell_type": "code",
   "execution_count": 1,
   "id": "2ee6f3bb",
   "metadata": {
    "execution": {
     "iopub.execute_input": "2025-01-05T20:45:05.398953Z",
     "iopub.status.busy": "2025-01-05T20:45:05.398526Z",
     "iopub.status.idle": "2025-01-05T20:45:15.627691Z",
     "shell.execute_reply": "2025-01-05T20:45:15.626575Z"
    },
    "papermill": {
     "duration": 10.240232,
     "end_time": "2025-01-05T20:45:15.629520",
     "exception": false,
     "start_time": "2025-01-05T20:45:05.389288",
     "status": "completed"
    },
    "tags": []
   },
   "outputs": [
    {
     "name": "stdout",
     "output_type": "stream",
     "text": [
      "Requirement already satisfied: scikit-learn in /usr/local/lib/python3.10/dist-packages (1.2.2)\r\n",
      "Collecting scikit-learn\r\n",
      "  Downloading scikit_learn-1.6.0-cp310-cp310-manylinux_2_17_x86_64.manylinux2014_x86_64.whl.metadata (18 kB)\r\n",
      "Requirement already satisfied: numpy>=1.19.5 in /usr/local/lib/python3.10/dist-packages (from scikit-learn) (1.26.4)\r\n",
      "Requirement already satisfied: scipy>=1.6.0 in /usr/local/lib/python3.10/dist-packages (from scikit-learn) (1.13.1)\r\n",
      "Requirement already satisfied: joblib>=1.2.0 in /usr/local/lib/python3.10/dist-packages (from scikit-learn) (1.4.2)\r\n",
      "Requirement already satisfied: threadpoolctl>=3.1.0 in /usr/local/lib/python3.10/dist-packages (from scikit-learn) (3.5.0)\r\n",
      "Downloading scikit_learn-1.6.0-cp310-cp310-manylinux_2_17_x86_64.manylinux2014_x86_64.whl (13.5 MB)\r\n",
      "\u001B[2K   \u001B[90m━━━━━━━━━━━━━━━━━━━━━━━━━━━━━━━━━━━━━━━━\u001B[0m \u001B[32m13.5/13.5 MB\u001B[0m \u001B[31m59.5 MB/s\u001B[0m eta \u001B[36m0:00:00\u001B[0m\r\n",
      "\u001B[?25hInstalling collected packages: scikit-learn\r\n",
      "  Attempting uninstall: scikit-learn\r\n",
      "    Found existing installation: scikit-learn 1.2.2\r\n",
      "    Uninstalling scikit-learn-1.2.2:\r\n",
      "      Successfully uninstalled scikit-learn-1.2.2\r\n",
      "Successfully installed scikit-learn-1.6.0\r\n"
     ]
    }
   ],
   "source": [
    "!pip install --upgrade scikit-learn"
   ]
  },
  {
   "cell_type": "code",
   "execution_count": 2,
   "id": "ad8413dc",
   "metadata": {
    "execution": {
     "iopub.execute_input": "2025-01-05T20:45:15.649714Z",
     "iopub.status.busy": "2025-01-05T20:45:15.649316Z",
     "iopub.status.idle": "2025-01-05T20:45:17.254320Z",
     "shell.execute_reply": "2025-01-05T20:45:17.253077Z"
    },
    "papermill": {
     "duration": 1.61686,
     "end_time": "2025-01-05T20:45:17.255980",
     "exception": false,
     "start_time": "2025-01-05T20:45:15.639120",
     "status": "completed"
    },
    "tags": []
   },
   "outputs": [
    {
     "name": "stdout",
     "output_type": "stream",
     "text": [
      "1.6.0\n"
     ]
    }
   ],
   "source": [
    "import sklearn\n",
    "print(sklearn.__version__)"
   ]
  },
  {
   "cell_type": "code",
   "execution_count": 3,
   "id": "f0d449d6",
   "metadata": {
    "execution": {
     "iopub.execute_input": "2025-01-05T20:45:17.276073Z",
     "iopub.status.busy": "2025-01-05T20:45:17.275598Z",
     "iopub.status.idle": "2025-01-05T20:45:17.618963Z",
     "shell.execute_reply": "2025-01-05T20:45:17.618084Z"
    },
    "papermill": {
     "duration": 0.355245,
     "end_time": "2025-01-05T20:45:17.620716",
     "exception": false,
     "start_time": "2025-01-05T20:45:17.265471",
     "status": "completed"
    },
    "tags": []
   },
   "outputs": [],
   "source": [
    "from fastai.imports import *\n",
    "np.set_printoptions(linewidth=130)"
   ]
  },
  {
   "cell_type": "code",
   "execution_count": 4,
   "id": "d4828020",
   "metadata": {
    "execution": {
     "iopub.execute_input": "2025-01-05T20:45:17.640684Z",
     "iopub.status.busy": "2025-01-05T20:45:17.640175Z",
     "iopub.status.idle": "2025-01-05T20:45:18.619707Z",
     "shell.execute_reply": "2025-01-05T20:45:18.618777Z"
    },
    "papermill": {
     "duration": 0.991314,
     "end_time": "2025-01-05T20:45:18.621701",
     "exception": false,
     "start_time": "2025-01-05T20:45:17.630387",
     "status": "completed"
    },
    "tags": []
   },
   "outputs": [],
   "source": [
    "import os\n",
    "iskaggle = os.environ.get('KAGGLE_KERNEL_RUN_TYPE', '')\n",
    "\n",
    "if iskaggle: path = Path('../input/drowsiness-databaase')\n",
    "else: path = Path(r'E:\\Szkoła i Studia\\Mechatronika\\Semestr 7\\Praca dyplomowa\\Dataset\\tabular_database\\excel_files')\n",
    "    \n",
    "df = pd.read_excel(path/'training_data.xlsx')\n",
    "overall_val_df = pd.read_excel(path/'validating_data.xlsx')\n",
    "overall_tst_df = pd.read_excel(path/'training_data.xlsx')\n",
    "\n",
    "modes = df.mode().iloc[0]"
   ]
  },
  {
   "cell_type": "markdown",
   "id": "c735cd38",
   "metadata": {
    "papermill": {
     "duration": 0.008787,
     "end_time": "2025-01-05T20:45:18.640267",
     "exception": false,
     "start_time": "2025-01-05T20:45:18.631480",
     "status": "completed"
    },
    "tags": []
   },
   "source": [
    "# Przygotowywanie danych"
   ]
  },
  {
   "cell_type": "code",
   "id": "d390bfab",
   "metadata": {
    "execution": {
     "iopub.execute_input": "2025-01-05T20:45:18.659990Z",
     "iopub.status.busy": "2025-01-05T20:45:18.659470Z",
     "iopub.status.idle": "2025-01-05T20:45:18.678682Z",
     "shell.execute_reply": "2025-01-05T20:45:18.677794Z"
    },
    "papermill": {
     "duration": 0.030986,
     "end_time": "2025-01-05T20:45:18.680406",
     "exception": false,
     "start_time": "2025-01-05T20:45:18.649420",
     "status": "completed"
    },
    "tags": [],
    "ExecuteTime": {
     "end_time": "2025-01-12T21:37:15.952012Z",
     "start_time": "2025-01-12T21:37:15.690267Z"
    }
   },
   "source": [
    "def proc_data(df):\n",
    "    df['Yawning'] = pd.Categorical(df.Yawning)\n",
    "    df['Drowsy'] = pd.Categorical(df.Drowsy)\n",
    "    df = df.drop(columns = [\"Column1\", \"Image\"])\n",
    "    # df = df.drop(columns = [\"Yawning\"])\n",
    "    df = df.rename(columns={\"Drowsy\": \"Is_drowsy\"})\n",
    "    return df\n",
    "\n",
    "df = proc_data(df)\n",
    "overall_val_df = proc_data(overall_val_df)\n",
    "overall_tst_df = proc_data(overall_tst_df)"
   ],
   "outputs": [
    {
     "ename": "NameError",
     "evalue": "name 'df' is not defined",
     "output_type": "error",
     "traceback": [
      "\u001B[1;31m---------------------------------------------------------------------------\u001B[0m",
      "\u001B[1;31mNameError\u001B[0m                                 Traceback (most recent call last)",
      "Cell \u001B[1;32mIn[1], line 9\u001B[0m\n\u001B[0;32m      6\u001B[0m     df \u001B[38;5;241m=\u001B[39m df\u001B[38;5;241m.\u001B[39mrename(columns\u001B[38;5;241m=\u001B[39m{\u001B[38;5;124m\"\u001B[39m\u001B[38;5;124mDrowsy\u001B[39m\u001B[38;5;124m\"\u001B[39m: \u001B[38;5;124m\"\u001B[39m\u001B[38;5;124mIs_drowsy\u001B[39m\u001B[38;5;124m\"\u001B[39m})\n\u001B[0;32m      7\u001B[0m     \u001B[38;5;28;01mreturn\u001B[39;00m df\n\u001B[1;32m----> 9\u001B[0m df \u001B[38;5;241m=\u001B[39m proc_data(\u001B[43mdf\u001B[49m)\n\u001B[0;32m     10\u001B[0m overall_val_df \u001B[38;5;241m=\u001B[39m proc_data(overall_val_df)\n\u001B[0;32m     11\u001B[0m overall_tst_df \u001B[38;5;241m=\u001B[39m proc_data(overall_tst_df)\n",
      "\u001B[1;31mNameError\u001B[0m: name 'df' is not defined"
     ]
    }
   ],
   "execution_count": 1
  },
  {
   "cell_type": "code",
   "execution_count": 6,
   "id": "cf17f08b",
   "metadata": {
    "execution": {
     "iopub.execute_input": "2025-01-05T20:45:18.700067Z",
     "iopub.status.busy": "2025-01-05T20:45:18.699721Z",
     "iopub.status.idle": "2025-01-05T20:45:18.720146Z",
     "shell.execute_reply": "2025-01-05T20:45:18.718768Z"
    },
    "papermill": {
     "duration": 0.032168,
     "end_time": "2025-01-05T20:45:18.721954",
     "exception": false,
     "start_time": "2025-01-05T20:45:18.689786",
     "status": "completed"
    },
    "tags": []
   },
   "outputs": [
    {
     "name": "stdout",
     "output_type": "stream",
     "text": [
      "           MAR       Roll     Pitch       EAR   Is_drowsy\n",
      "0     0.626845  18.396028 -8.080665  0.259562      Drowsy\n",
      "1     0.625194  -5.956032  1.744036  0.228701      Drowsy\n",
      "2     0.616541 -84.218631  0.277656  0.276369      Drowsy\n",
      "3     0.591161 -60.652150 -1.417466  0.287134      Drowsy\n",
      "4     0.577353 -84.725102  1.373783  0.163893      Drowsy\n",
      "...        ...        ...       ...       ...         ...\n",
      "2216  0.000000   0.000000  0.000000  0.000000  Not_drowsy\n",
      "2217  0.000000   0.000000  0.000000  0.000000  Not_drowsy\n",
      "2218  0.000000   0.000000  0.000000  0.000000  Not_drowsy\n",
      "2219  0.000000   0.000000  0.000000  0.000000  Not_drowsy\n",
      "2220  0.000000   0.000000  0.000000  0.000000  Not_drowsy\n",
      "\n",
      "[2221 rows x 5 columns]\n"
     ]
    }
   ],
   "source": [
    "print(df)"
   ]
  },
  {
   "cell_type": "code",
   "execution_count": 7,
   "id": "112cc45a",
   "metadata": {
    "execution": {
     "iopub.execute_input": "2025-01-05T20:45:18.742390Z",
     "iopub.status.busy": "2025-01-05T20:45:18.742010Z",
     "iopub.status.idle": "2025-01-05T20:45:18.746176Z",
     "shell.execute_reply": "2025-01-05T20:45:18.745167Z"
    },
    "papermill": {
     "duration": 0.015817,
     "end_time": "2025-01-05T20:45:18.747834",
     "exception": false,
     "start_time": "2025-01-05T20:45:18.732017",
     "status": "completed"
    },
    "tags": []
   },
   "outputs": [],
   "source": [
    "continuous = ['MAR', 'EAR', 'Roll', 'Pitch']\n",
    "dependand = 'Is_drowsy'"
   ]
  },
  {
   "cell_type": "markdown",
   "id": "eb70752b",
   "metadata": {
    "papermill": {
     "duration": 0.00882,
     "end_time": "2025-01-05T20:45:18.766109",
     "exception": false,
     "start_time": "2025-01-05T20:45:18.757289",
     "status": "completed"
    },
    "tags": []
   },
   "source": [
    "# Tworzenie podziału na dane treningowe i walidacyjne"
   ]
  },
  {
   "cell_type": "code",
   "execution_count": 8,
   "id": "9dcc519a",
   "metadata": {
    "execution": {
     "iopub.execute_input": "2025-01-05T20:45:18.785349Z",
     "iopub.status.busy": "2025-01-05T20:45:18.784994Z",
     "iopub.status.idle": "2025-01-05T20:45:18.834704Z",
     "shell.execute_reply": "2025-01-05T20:45:18.833735Z"
    },
    "papermill": {
     "duration": 0.061459,
     "end_time": "2025-01-05T20:45:18.836597",
     "exception": false,
     "start_time": "2025-01-05T20:45:18.775138",
     "status": "completed"
    },
    "tags": []
   },
   "outputs": [],
   "source": [
    "from numpy import random\n",
    "from sklearn.model_selection import train_test_split\n",
    "\n",
    "train_df, val_df = train_test_split(df, test_size = 0.2)"
   ]
  },
  {
   "cell_type": "code",
   "execution_count": 9,
   "id": "1063d3b2",
   "metadata": {
    "execution": {
     "iopub.execute_input": "2025-01-05T20:45:18.856289Z",
     "iopub.status.busy": "2025-01-05T20:45:18.855762Z",
     "iopub.status.idle": "2025-01-05T20:45:18.869528Z",
     "shell.execute_reply": "2025-01-05T20:45:18.868178Z"
    },
    "papermill": {
     "duration": 0.025152,
     "end_time": "2025-01-05T20:45:18.871116",
     "exception": false,
     "start_time": "2025-01-05T20:45:18.845964",
     "status": "completed"
    },
    "tags": []
   },
   "outputs": [
    {
     "name": "stdout",
     "output_type": "stream",
     "text": [
      "           MAR       EAR       Roll      Pitch\n",
      "1531  0.198758  0.166936  54.787255   8.892342\n",
      "1264  0.231088  0.073486  69.338928   2.852765\n",
      "1003  0.242828  0.058973  37.039760   1.879178\n",
      "307   0.316349  0.291729  82.213678   0.797730\n",
      "1963  0.158789  0.219323  12.521525  -5.426515\n",
      "...        ...       ...        ...        ...\n",
      "843   0.248750  0.033805  49.717160   1.946913\n",
      "7     0.542793  0.309745 -48.710861  -7.447343\n",
      "1091  0.239456  0.052550  31.750692   3.891439\n",
      "591   0.265013  0.179182  12.259286 -22.797336\n",
      "276   0.324633  0.279482  48.243352   2.634174\n",
      "\n",
      "[1776 rows x 4 columns]\n",
      "1596    Not_drowsy\n",
      "1197        Drowsy\n",
      "1083        Drowsy\n",
      "1439    Not_drowsy\n",
      "1123        Drowsy\n",
      "           ...    \n",
      "76          Drowsy\n",
      "986     Not_drowsy\n",
      "1888        Drowsy\n",
      "1771    Not_drowsy\n",
      "71          Drowsy\n",
      "Name: Is_drowsy, Length: 445, dtype: category\n",
      "Categories (2, object): ['Drowsy', 'Not_drowsy']\n"
     ]
    }
   ],
   "source": [
    "def xs_y(df):\n",
    "    xs = df[continuous].copy()\n",
    "    return xs, df[dependand] if dependand in df else None\n",
    "\n",
    "train_xs, train_y = xs_y(train_df)\n",
    "val_xs, val_y = xs_y(val_df)\n",
    "\n",
    "print(train_xs)\n",
    "print(val_y)"
   ]
  },
  {
   "cell_type": "markdown",
   "id": "14df309e",
   "metadata": {
    "papermill": {
     "duration": 0.008977,
     "end_time": "2025-01-05T20:45:18.889818",
     "exception": false,
     "start_time": "2025-01-05T20:45:18.880841",
     "status": "completed"
    },
    "tags": []
   },
   "source": [
    "# Tworzenie drzew decyzyjnych - Pierwsza iteracja"
   ]
  },
  {
   "cell_type": "code",
   "execution_count": 10,
   "id": "7708b765",
   "metadata": {
    "execution": {
     "iopub.execute_input": "2025-01-05T20:45:18.910014Z",
     "iopub.status.busy": "2025-01-05T20:45:18.909665Z",
     "iopub.status.idle": "2025-01-05T20:45:19.072317Z",
     "shell.execute_reply": "2025-01-05T20:45:19.071485Z"
    },
    "papermill": {
     "duration": 0.1751,
     "end_time": "2025-01-05T20:45:19.074215",
     "exception": false,
     "start_time": "2025-01-05T20:45:18.899115",
     "status": "completed"
    },
    "tags": []
   },
   "outputs": [],
   "source": [
    "from sklearn.tree import DecisionTreeClassifier, export_graphviz"
   ]
  },
  {
   "cell_type": "code",
   "execution_count": 11,
   "id": "411a1336",
   "metadata": {
    "execution": {
     "iopub.execute_input": "2025-01-05T20:45:19.095140Z",
     "iopub.status.busy": "2025-01-05T20:45:19.094654Z",
     "iopub.status.idle": "2025-01-05T20:45:19.142086Z",
     "shell.execute_reply": "2025-01-05T20:45:19.141135Z"
    },
    "papermill": {
     "duration": 0.059884,
     "end_time": "2025-01-05T20:45:19.143935",
     "exception": false,
     "start_time": "2025-01-05T20:45:19.084051",
     "status": "completed"
    },
    "tags": []
   },
   "outputs": [],
   "source": [
    "import graphviz\n",
    "\n",
    "def draw_tree(model, df, size = 10, ratio = 0.6, precision=2, **kwargs):\n",
    "    s = export_graphviz(model, out_file=None, feature_names=df.columns, filled=True, \n",
    "                        rounded=True, special_characters= True, rotate=False, precision=precision, **kwargs)\n",
    "    return graphviz.Source(re.sub('Tree {', f'Tree {{ size={size}; ratio={ratio}', s))"
   ]
  },
  {
   "cell_type": "code",
   "execution_count": 12,
   "id": "82e4e96d",
   "metadata": {
    "execution": {
     "iopub.execute_input": "2025-01-05T20:45:19.163724Z",
     "iopub.status.busy": "2025-01-05T20:45:19.163410Z",
     "iopub.status.idle": "2025-01-05T20:45:19.406860Z",
     "shell.execute_reply": "2025-01-05T20:45:19.405492Z"
    },
    "papermill": {
     "duration": 0.255223,
     "end_time": "2025-01-05T20:45:19.408561",
     "exception": false,
     "start_time": "2025-01-05T20:45:19.153338",
     "status": "completed"
    },
    "tags": []
   },
   "outputs": [
    {
     "data": {
      "image/svg+xml": [
       "<?xml version=\"1.0\" encoding=\"UTF-8\" standalone=\"no\"?>\n",
       "<!DOCTYPE svg PUBLIC \"-//W3C//DTD SVG 1.1//EN\"\n",
       " \"http://www.w3.org/Graphics/SVG/1.1/DTD/svg11.dtd\">\n",
       "<!-- Generated by graphviz version 2.43.0 (0)\n",
       " -->\n",
       "<!-- Title: Tree Pages: 1 -->\n",
       "<svg width=\"524pt\" height=\"317pt\"\n",
       " viewBox=\"0.00 0.00 523.50 317.00\" xmlns=\"http://www.w3.org/2000/svg\" xmlns:xlink=\"http://www.w3.org/1999/xlink\">\n",
       "<g id=\"graph0\" class=\"graph\" transform=\"scale(1 1) rotate(0) translate(4 313)\">\n",
       "<title>Tree</title>\n",
       "<polygon fill=\"white\" stroke=\"transparent\" points=\"-4,4 -4,-313 519.5,-313 519.5,4 -4,4\"/>\n",
       "<!-- 0 -->\n",
       "<g id=\"node1\" class=\"node\">\n",
       "<title>0</title>\n",
       "<path fill=\"#fbebe0\" stroke=\"black\" d=\"M317,-303C317,-303 216,-303 216,-303 210,-303 204,-297 204,-291 204,-291 204,-247 204,-247 204,-241 210,-235 216,-235 216,-235 317,-235 317,-235 323,-235 329,-241 329,-247 329,-247 329,-291 329,-291 329,-297 323,-303 317,-303\"/>\n",
       "<text text-anchor=\"start\" x=\"231.5\" y=\"-287.8\" font-family=\"Helvetica,sans-Serif\" font-size=\"14.00\">EAR ≤ 0.28</text>\n",
       "<text text-anchor=\"start\" x=\"238.5\" y=\"-272.8\" font-family=\"Helvetica,sans-Serif\" font-size=\"14.00\">gini = 0.5</text>\n",
       "<text text-anchor=\"start\" x=\"218\" y=\"-257.8\" font-family=\"Helvetica,sans-Serif\" font-size=\"14.00\">samples = 1776</text>\n",
       "<text text-anchor=\"start\" x=\"212\" y=\"-242.8\" font-family=\"Helvetica,sans-Serif\" font-size=\"14.00\">value = [963, 813]</text>\n",
       "</g>\n",
       "<!-- 1 -->\n",
       "<g id=\"node2\" class=\"node\">\n",
       "<title>1</title>\n",
       "<path fill=\"#eb9f68\" stroke=\"black\" d=\"M248,-180C248,-180 147,-180 147,-180 141,-180 135,-174 135,-168 135,-168 135,-124 135,-124 135,-118 141,-112 147,-112 147,-112 248,-112 248,-112 254,-112 260,-118 260,-124 260,-124 260,-168 260,-168 260,-174 254,-180 248,-180\"/>\n",
       "<text text-anchor=\"start\" x=\"162.5\" y=\"-164.8\" font-family=\"Helvetica,sans-Serif\" font-size=\"14.00\">EAR ≤ 0.14</text>\n",
       "<text text-anchor=\"start\" x=\"165.5\" y=\"-149.8\" font-family=\"Helvetica,sans-Serif\" font-size=\"14.00\">gini = 0.31</text>\n",
       "<text text-anchor=\"start\" x=\"149\" y=\"-134.8\" font-family=\"Helvetica,sans-Serif\" font-size=\"14.00\">samples = 1126</text>\n",
       "<text text-anchor=\"start\" x=\"143\" y=\"-119.8\" font-family=\"Helvetica,sans-Serif\" font-size=\"14.00\">value = [909, 217]</text>\n",
       "</g>\n",
       "<!-- 0&#45;&gt;1 -->\n",
       "<g id=\"edge1\" class=\"edge\">\n",
       "<title>0&#45;&gt;1</title>\n",
       "<path fill=\"none\" stroke=\"black\" d=\"M247.65,-234.94C239.58,-220.8 230.07,-204.12 221.52,-189.11\"/>\n",
       "<polygon fill=\"black\" stroke=\"black\" points=\"224.33,-186.98 216.33,-180.02 218.25,-190.44 224.33,-186.98\"/>\n",
       "<text text-anchor=\"middle\" x=\"209.73\" y=\"-200.44\" font-family=\"Helvetica,sans-Serif\" font-size=\"14.00\">True</text>\n",
       "</g>\n",
       "<!-- 2 -->\n",
       "<g id=\"node5\" class=\"node\">\n",
       "<title>2</title>\n",
       "<path fill=\"#4ba6e7\" stroke=\"black\" d=\"M383,-180C383,-180 290,-180 290,-180 284,-180 278,-174 278,-168 278,-168 278,-124 278,-124 278,-118 284,-112 290,-112 290,-112 383,-112 383,-112 389,-112 395,-118 395,-124 395,-124 395,-168 395,-168 395,-174 389,-180 383,-180\"/>\n",
       "<text text-anchor=\"start\" x=\"300\" y=\"-164.8\" font-family=\"Helvetica,sans-Serif\" font-size=\"14.00\">MAR ≤ 0.39</text>\n",
       "<text text-anchor=\"start\" x=\"304.5\" y=\"-149.8\" font-family=\"Helvetica,sans-Serif\" font-size=\"14.00\">gini = 0.15</text>\n",
       "<text text-anchor=\"start\" x=\"291.5\" y=\"-134.8\" font-family=\"Helvetica,sans-Serif\" font-size=\"14.00\">samples = 650</text>\n",
       "<text text-anchor=\"start\" x=\"286\" y=\"-119.8\" font-family=\"Helvetica,sans-Serif\" font-size=\"14.00\">value = [54, 596]</text>\n",
       "</g>\n",
       "<!-- 0&#45;&gt;2 -->\n",
       "<g id=\"edge4\" class=\"edge\">\n",
       "<title>0&#45;&gt;2</title>\n",
       "<path fill=\"none\" stroke=\"black\" d=\"M285.63,-234.94C293.88,-220.66 303.64,-203.81 312.38,-188.69\"/>\n",
       "<polygon fill=\"black\" stroke=\"black\" points=\"315.42,-190.43 317.4,-180.02 309.36,-186.93 315.42,-190.43\"/>\n",
       "<text text-anchor=\"middle\" x=\"323.84\" y=\"-200.48\" font-family=\"Helvetica,sans-Serif\" font-size=\"14.00\">False</text>\n",
       "</g>\n",
       "<!-- 3 -->\n",
       "<g id=\"node3\" class=\"node\">\n",
       "<title>3</title>\n",
       "<path fill=\"#e78b49\" stroke=\"black\" d=\"M105,-57.5C105,-57.5 12,-57.5 12,-57.5 6,-57.5 0,-51.5 0,-45.5 0,-45.5 0,-16.5 0,-16.5 0,-10.5 6,-4.5 12,-4.5 12,-4.5 105,-4.5 105,-4.5 111,-4.5 117,-10.5 117,-16.5 117,-16.5 117,-45.5 117,-45.5 117,-51.5 111,-57.5 105,-57.5\"/>\n",
       "<text text-anchor=\"start\" x=\"26.5\" y=\"-42.3\" font-family=\"Helvetica,sans-Serif\" font-size=\"14.00\">gini = 0.13</text>\n",
       "<text text-anchor=\"start\" x=\"13.5\" y=\"-27.3\" font-family=\"Helvetica,sans-Serif\" font-size=\"14.00\">samples = 661</text>\n",
       "<text text-anchor=\"start\" x=\"8\" y=\"-12.3\" font-family=\"Helvetica,sans-Serif\" font-size=\"14.00\">value = [613, 48]</text>\n",
       "</g>\n",
       "<!-- 1&#45;&gt;3 -->\n",
       "<g id=\"edge2\" class=\"edge\">\n",
       "<title>1&#45;&gt;3</title>\n",
       "<path fill=\"none\" stroke=\"black\" d=\"M156.55,-111.71C138.07,-96.69 116.35,-79.03 98.04,-64.15\"/>\n",
       "<polygon fill=\"black\" stroke=\"black\" points=\"99.87,-61.12 89.9,-57.53 95.45,-66.55 99.87,-61.12\"/>\n",
       "</g>\n",
       "<!-- 4 -->\n",
       "<g id=\"node4\" class=\"node\">\n",
       "<title>4</title>\n",
       "<path fill=\"#f4c9aa\" stroke=\"black\" d=\"M248,-57.5C248,-57.5 147,-57.5 147,-57.5 141,-57.5 135,-51.5 135,-45.5 135,-45.5 135,-16.5 135,-16.5 135,-10.5 141,-4.5 147,-4.5 147,-4.5 248,-4.5 248,-4.5 254,-4.5 260,-10.5 260,-16.5 260,-16.5 260,-45.5 260,-45.5 260,-51.5 254,-57.5 248,-57.5\"/>\n",
       "<text text-anchor=\"start\" x=\"165.5\" y=\"-42.3\" font-family=\"Helvetica,sans-Serif\" font-size=\"14.00\">gini = 0.46</text>\n",
       "<text text-anchor=\"start\" x=\"152.5\" y=\"-27.3\" font-family=\"Helvetica,sans-Serif\" font-size=\"14.00\">samples = 465</text>\n",
       "<text text-anchor=\"start\" x=\"143\" y=\"-12.3\" font-family=\"Helvetica,sans-Serif\" font-size=\"14.00\">value = [296, 169]</text>\n",
       "</g>\n",
       "<!-- 1&#45;&gt;4 -->\n",
       "<g id=\"edge3\" class=\"edge\">\n",
       "<title>1&#45;&gt;4</title>\n",
       "<path fill=\"none\" stroke=\"black\" d=\"M197.5,-111.71C197.5,-97.91 197.5,-81.87 197.5,-67.82\"/>\n",
       "<polygon fill=\"black\" stroke=\"black\" points=\"201,-67.53 197.5,-57.53 194,-67.53 201,-67.53\"/>\n",
       "</g>\n",
       "<!-- 5 -->\n",
       "<g id=\"node6\" class=\"node\">\n",
       "<title>5</title>\n",
       "<path fill=\"#43a2e6\" stroke=\"black\" d=\"M383,-57.5C383,-57.5 290,-57.5 290,-57.5 284,-57.5 278,-51.5 278,-45.5 278,-45.5 278,-16.5 278,-16.5 278,-10.5 284,-4.5 290,-4.5 290,-4.5 383,-4.5 383,-4.5 389,-4.5 395,-10.5 395,-16.5 395,-16.5 395,-45.5 395,-45.5 395,-51.5 389,-57.5 383,-57.5\"/>\n",
       "<text text-anchor=\"start\" x=\"304.5\" y=\"-42.3\" font-family=\"Helvetica,sans-Serif\" font-size=\"14.00\">gini = 0.09</text>\n",
       "<text text-anchor=\"start\" x=\"291.5\" y=\"-27.3\" font-family=\"Helvetica,sans-Serif\" font-size=\"14.00\">samples = 626</text>\n",
       "<text text-anchor=\"start\" x=\"286\" y=\"-12.3\" font-family=\"Helvetica,sans-Serif\" font-size=\"14.00\">value = [31, 595]</text>\n",
       "</g>\n",
       "<!-- 2&#45;&gt;5 -->\n",
       "<g id=\"edge5\" class=\"edge\">\n",
       "<title>2&#45;&gt;5</title>\n",
       "<path fill=\"none\" stroke=\"black\" d=\"M336.5,-111.71C336.5,-97.91 336.5,-81.87 336.5,-67.82\"/>\n",
       "<polygon fill=\"black\" stroke=\"black\" points=\"340,-67.53 336.5,-57.53 333,-67.53 340,-67.53\"/>\n",
       "</g>\n",
       "<!-- 6 -->\n",
       "<g id=\"node7\" class=\"node\">\n",
       "<title>6</title>\n",
       "<path fill=\"#e68642\" stroke=\"black\" d=\"M503.5,-57.5C503.5,-57.5 425.5,-57.5 425.5,-57.5 419.5,-57.5 413.5,-51.5 413.5,-45.5 413.5,-45.5 413.5,-16.5 413.5,-16.5 413.5,-10.5 419.5,-4.5 425.5,-4.5 425.5,-4.5 503.5,-4.5 503.5,-4.5 509.5,-4.5 515.5,-10.5 515.5,-16.5 515.5,-16.5 515.5,-45.5 515.5,-45.5 515.5,-51.5 509.5,-57.5 503.5,-57.5\"/>\n",
       "<text text-anchor=\"start\" x=\"432.5\" y=\"-42.3\" font-family=\"Helvetica,sans-Serif\" font-size=\"14.00\">gini = 0.08</text>\n",
       "<text text-anchor=\"start\" x=\"423.5\" y=\"-27.3\" font-family=\"Helvetica,sans-Serif\" font-size=\"14.00\">samples = 24</text>\n",
       "<text text-anchor=\"start\" x=\"421.5\" y=\"-12.3\" font-family=\"Helvetica,sans-Serif\" font-size=\"14.00\">value = [23, 1]</text>\n",
       "</g>\n",
       "<!-- 2&#45;&gt;6 -->\n",
       "<g id=\"edge6\" class=\"edge\">\n",
       "<title>2&#45;&gt;6</title>\n",
       "<path fill=\"none\" stroke=\"black\" d=\"M374.21,-111.71C391.22,-96.69 411.23,-79.03 428.09,-64.15\"/>\n",
       "<polygon fill=\"black\" stroke=\"black\" points=\"430.4,-66.77 435.58,-57.53 425.77,-61.52 430.4,-66.77\"/>\n",
       "</g>\n",
       "</g>\n",
       "</svg>\n"
      ],
      "text/plain": [
       "<graphviz.sources.Source at 0x79db25f1be20>"
      ]
     },
     "execution_count": 12,
     "metadata": {},
     "output_type": "execute_result"
    }
   ],
   "source": [
    "model = DecisionTreeClassifier(max_leaf_nodes=4)\n",
    "model.fit(train_xs, train_y)\n",
    "draw_tree(model, train_xs, size=10)"
   ]
  },
  {
   "cell_type": "code",
   "execution_count": 13,
   "id": "d2f39d8a",
   "metadata": {
    "execution": {
     "iopub.execute_input": "2025-01-05T20:45:19.429996Z",
     "iopub.status.busy": "2025-01-05T20:45:19.429669Z",
     "iopub.status.idle": "2025-01-05T20:45:19.438673Z",
     "shell.execute_reply": "2025-01-05T20:45:19.437474Z"
    },
    "papermill": {
     "duration": 0.021583,
     "end_time": "2025-01-05T20:45:19.440418",
     "exception": false,
     "start_time": "2025-01-05T20:45:19.418835",
     "status": "completed"
    },
    "tags": []
   },
   "outputs": [
    {
     "name": "stdout",
     "output_type": "stream",
     "text": [
      "Accuracy: 0.851685393258427\n"
     ]
    }
   ],
   "source": [
    "from sklearn.metrics import accuracy_score\n",
    "accuracy = accuracy_score(val_y, model.predict(val_xs))\n",
    "print(\"Accuracy:\", accuracy)"
   ]
  },
  {
   "cell_type": "code",
   "execution_count": 14,
   "id": "452a1b5f",
   "metadata": {
    "execution": {
     "iopub.execute_input": "2025-01-05T20:45:19.461796Z",
     "iopub.status.busy": "2025-01-05T20:45:19.461251Z",
     "iopub.status.idle": "2025-01-05T20:45:19.482533Z",
     "shell.execute_reply": "2025-01-05T20:45:19.481440Z"
    },
    "papermill": {
     "duration": 0.033866,
     "end_time": "2025-01-05T20:45:19.484151",
     "exception": false,
     "start_time": "2025-01-05T20:45:19.450285",
     "status": "completed"
    },
    "tags": []
   },
   "outputs": [
    {
     "name": "stdout",
     "output_type": "stream",
     "text": [
      "Classification Report:\n",
      "               precision    recall  f1-score   support\n",
      "\n",
      "      Drowsy       0.80      0.95      0.87       235\n",
      "  Not_drowsy       0.93      0.74      0.82       210\n",
      "\n",
      "    accuracy                           0.85       445\n",
      "   macro avg       0.87      0.85      0.85       445\n",
      "weighted avg       0.86      0.85      0.85       445\n",
      "\n"
     ]
    }
   ],
   "source": [
    "from sklearn.metrics import classification_report\n",
    "report = classification_report(val_y, model.predict(val_xs))\n",
    "print(\"Classification Report:\\n\", report)"
   ]
  },
  {
   "cell_type": "code",
   "execution_count": 15,
   "id": "f25f2ad1",
   "metadata": {
    "execution": {
     "iopub.execute_input": "2025-01-05T20:45:19.504999Z",
     "iopub.status.busy": "2025-01-05T20:45:19.504633Z",
     "iopub.status.idle": "2025-01-05T20:45:19.515428Z",
     "shell.execute_reply": "2025-01-05T20:45:19.514339Z"
    },
    "papermill": {
     "duration": 0.02295,
     "end_time": "2025-01-05T20:45:19.516975",
     "exception": false,
     "start_time": "2025-01-05T20:45:19.494025",
     "status": "completed"
    },
    "tags": []
   },
   "outputs": [
    {
     "name": "stdout",
     "output_type": "stream",
     "text": [
      "Confusion Matrix:\n",
      " [[224  11]\n",
      " [ 55 155]]\n"
     ]
    }
   ],
   "source": [
    "from sklearn.metrics import confusion_matrix\n",
    "cm = confusion_matrix(val_y, model.predict(val_xs))\n",
    "print(\"Confusion Matrix:\\n\", cm)"
   ]
  },
  {
   "cell_type": "markdown",
   "id": "961f3c34",
   "metadata": {
    "papermill": {
     "duration": 0.009881,
     "end_time": "2025-01-05T20:45:19.536829",
     "exception": false,
     "start_time": "2025-01-05T20:45:19.526948",
     "status": "completed"
    },
    "tags": []
   },
   "source": [
    "# Tworzenie drzew decyzyjnych - Druga iteracja"
   ]
  },
  {
   "cell_type": "code",
   "execution_count": 16,
   "id": "5c729ae8",
   "metadata": {
    "execution": {
     "iopub.execute_input": "2025-01-05T20:45:19.557828Z",
     "iopub.status.busy": "2025-01-05T20:45:19.557435Z",
     "iopub.status.idle": "2025-01-05T20:45:19.604488Z",
     "shell.execute_reply": "2025-01-05T20:45:19.603420Z"
    },
    "papermill": {
     "duration": 0.059731,
     "end_time": "2025-01-05T20:45:19.606343",
     "exception": false,
     "start_time": "2025-01-05T20:45:19.546612",
     "status": "completed"
    },
    "tags": []
   },
   "outputs": [
    {
     "data": {
      "image/svg+xml": [
       "<?xml version=\"1.0\" encoding=\"UTF-8\" standalone=\"no\"?>\n",
       "<!DOCTYPE svg PUBLIC \"-//W3C//DTD SVG 1.1//EN\"\n",
       " \"http://www.w3.org/Graphics/SVG/1.1/DTD/svg11.dtd\">\n",
       "<!-- Generated by graphviz version 2.43.0 (0)\n",
       " -->\n",
       "<!-- Title: Tree Pages: 1 -->\n",
       "<svg width=\"720pt\" height=\"434pt\"\n",
       " viewBox=\"0.00 0.00 720.00 433.76\" xmlns=\"http://www.w3.org/2000/svg\" xmlns:xlink=\"http://www.w3.org/1999/xlink\">\n",
       "<g id=\"graph0\" class=\"graph\" transform=\"scale(0.55 0.55) rotate(0) translate(4 785)\">\n",
       "<title>Tree</title>\n",
       "<polygon fill=\"white\" stroke=\"transparent\" points=\"-4,4 -4,-785 1305.67,-785 1305.67,4 -4,4\"/>\n",
       "<!-- 0 -->\n",
       "<g id=\"node1\" class=\"node\">\n",
       "<title>0</title>\n",
       "<path fill=\"#fbebe0\" stroke=\"black\" d=\"M898.02,-781C898.02,-781 797.02,-781 797.02,-781 791.02,-781 785.02,-775 785.02,-769 785.02,-769 785.02,-725 785.02,-725 785.02,-719 791.02,-713 797.02,-713 797.02,-713 898.02,-713 898.02,-713 904.02,-713 910.02,-719 910.02,-725 910.02,-725 910.02,-769 910.02,-769 910.02,-775 904.02,-781 898.02,-781\"/>\n",
       "<text text-anchor=\"start\" x=\"812.52\" y=\"-765.8\" font-family=\"Helvetica,sans-Serif\" font-size=\"14.00\">EAR ≤ 0.28</text>\n",
       "<text text-anchor=\"start\" x=\"819.52\" y=\"-750.8\" font-family=\"Helvetica,sans-Serif\" font-size=\"14.00\">gini = 0.5</text>\n",
       "<text text-anchor=\"start\" x=\"799.02\" y=\"-735.8\" font-family=\"Helvetica,sans-Serif\" font-size=\"14.00\">samples = 1776</text>\n",
       "<text text-anchor=\"start\" x=\"793.02\" y=\"-720.8\" font-family=\"Helvetica,sans-Serif\" font-size=\"14.00\">value = [963, 813]</text>\n",
       "</g>\n",
       "<!-- 1 -->\n",
       "<g id=\"node2\" class=\"node\">\n",
       "<title>1</title>\n",
       "<path fill=\"#eb9f68\" stroke=\"black\" d=\"M742.02,-677C742.02,-677 641.02,-677 641.02,-677 635.02,-677 629.02,-671 629.02,-665 629.02,-665 629.02,-621 629.02,-621 629.02,-615 635.02,-609 641.02,-609 641.02,-609 742.02,-609 742.02,-609 748.02,-609 754.02,-615 754.02,-621 754.02,-621 754.02,-665 754.02,-665 754.02,-671 748.02,-677 742.02,-677\"/>\n",
       "<text text-anchor=\"start\" x=\"656.52\" y=\"-661.8\" font-family=\"Helvetica,sans-Serif\" font-size=\"14.00\">EAR ≤ 0.14</text>\n",
       "<text text-anchor=\"start\" x=\"659.52\" y=\"-646.8\" font-family=\"Helvetica,sans-Serif\" font-size=\"14.00\">gini = 0.31</text>\n",
       "<text text-anchor=\"start\" x=\"643.02\" y=\"-631.8\" font-family=\"Helvetica,sans-Serif\" font-size=\"14.00\">samples = 1126</text>\n",
       "<text text-anchor=\"start\" x=\"637.02\" y=\"-616.8\" font-family=\"Helvetica,sans-Serif\" font-size=\"14.00\">value = [909, 217]</text>\n",
       "</g>\n",
       "<!-- 0&#45;&gt;1 -->\n",
       "<g id=\"edge1\" class=\"edge\">\n",
       "<title>0&#45;&gt;1</title>\n",
       "<path fill=\"none\" stroke=\"black\" d=\"M796.87,-712.88C782.22,-703.3 766.09,-692.76 750.96,-682.86\"/>\n",
       "<polygon fill=\"black\" stroke=\"black\" points=\"752.47,-679.67 742.18,-677.12 748.63,-685.53 752.47,-679.67\"/>\n",
       "<text text-anchor=\"middle\" x=\"747.3\" y=\"-697.89\" font-family=\"Helvetica,sans-Serif\" font-size=\"14.00\">True</text>\n",
       "</g>\n",
       "<!-- 24 -->\n",
       "<g id=\"node25\" class=\"node\">\n",
       "<title>24</title>\n",
       "<path fill=\"#4ba6e7\" stroke=\"black\" d=\"M980.02,-677C980.02,-677 887.02,-677 887.02,-677 881.02,-677 875.02,-671 875.02,-665 875.02,-665 875.02,-621 875.02,-621 875.02,-615 881.02,-609 887.02,-609 887.02,-609 980.02,-609 980.02,-609 986.02,-609 992.02,-615 992.02,-621 992.02,-621 992.02,-665 992.02,-665 992.02,-671 986.02,-677 980.02,-677\"/>\n",
       "<text text-anchor=\"start\" x=\"897.02\" y=\"-661.8\" font-family=\"Helvetica,sans-Serif\" font-size=\"14.00\">MAR ≤ 0.35</text>\n",
       "<text text-anchor=\"start\" x=\"901.52\" y=\"-646.8\" font-family=\"Helvetica,sans-Serif\" font-size=\"14.00\">gini = 0.15</text>\n",
       "<text text-anchor=\"start\" x=\"888.52\" y=\"-631.8\" font-family=\"Helvetica,sans-Serif\" font-size=\"14.00\">samples = 650</text>\n",
       "<text text-anchor=\"start\" x=\"883.02\" y=\"-616.8\" font-family=\"Helvetica,sans-Serif\" font-size=\"14.00\">value = [54, 596]</text>\n",
       "</g>\n",
       "<!-- 0&#45;&gt;24 -->\n",
       "<g id=\"edge24\" class=\"edge\">\n",
       "<title>0&#45;&gt;24</title>\n",
       "<path fill=\"none\" stroke=\"black\" d=\"M875.44,-712.88C882.95,-703.98 891.16,-694.24 898.99,-684.96\"/>\n",
       "<polygon fill=\"black\" stroke=\"black\" points=\"901.67,-687.2 905.44,-677.3 896.32,-682.69 901.67,-687.2\"/>\n",
       "<text text-anchor=\"middle\" x=\"907.56\" y=\"-698.51\" font-family=\"Helvetica,sans-Serif\" font-size=\"14.00\">False</text>\n",
       "</g>\n",
       "<!-- 2 -->\n",
       "<g id=\"node3\" class=\"node\">\n",
       "<title>2</title>\n",
       "<path fill=\"#e78b49\" stroke=\"black\" d=\"M498.02,-573C498.02,-573 405.02,-573 405.02,-573 399.02,-573 393.02,-567 393.02,-561 393.02,-561 393.02,-517 393.02,-517 393.02,-511 399.02,-505 405.02,-505 405.02,-505 498.02,-505 498.02,-505 504.02,-505 510.02,-511 510.02,-517 510.02,-517 510.02,-561 510.02,-561 510.02,-567 504.02,-573 498.02,-573\"/>\n",
       "<text text-anchor=\"start\" x=\"415.02\" y=\"-557.8\" font-family=\"Helvetica,sans-Serif\" font-size=\"14.00\">MAR ≤ 0.05</text>\n",
       "<text text-anchor=\"start\" x=\"419.52\" y=\"-542.8\" font-family=\"Helvetica,sans-Serif\" font-size=\"14.00\">gini = 0.13</text>\n",
       "<text text-anchor=\"start\" x=\"406.52\" y=\"-527.8\" font-family=\"Helvetica,sans-Serif\" font-size=\"14.00\">samples = 661</text>\n",
       "<text text-anchor=\"start\" x=\"401.02\" y=\"-512.8\" font-family=\"Helvetica,sans-Serif\" font-size=\"14.00\">value = [613, 48]</text>\n",
       "</g>\n",
       "<!-- 1&#45;&gt;2 -->\n",
       "<g id=\"edge2\" class=\"edge\">\n",
       "<title>1&#45;&gt;2</title>\n",
       "<path fill=\"none\" stroke=\"black\" d=\"M628.78,-615.33C595.26,-601.09 553.96,-583.54 519.66,-568.96\"/>\n",
       "<polygon fill=\"black\" stroke=\"black\" points=\"520.76,-565.62 510.19,-564.93 518.02,-572.07 520.76,-565.62\"/>\n",
       "</g>\n",
       "<!-- 11 -->\n",
       "<g id=\"node12\" class=\"node\">\n",
       "<title>11</title>\n",
       "<path fill=\"#f4c9aa\" stroke=\"black\" d=\"M742.02,-573C742.02,-573 641.02,-573 641.02,-573 635.02,-573 629.02,-567 629.02,-561 629.02,-561 629.02,-517 629.02,-517 629.02,-511 635.02,-505 641.02,-505 641.02,-505 742.02,-505 742.02,-505 748.02,-505 754.02,-511 754.02,-517 754.02,-517 754.02,-561 754.02,-561 754.02,-567 748.02,-573 742.02,-573\"/>\n",
       "<text text-anchor=\"start\" x=\"655.02\" y=\"-557.8\" font-family=\"Helvetica,sans-Serif\" font-size=\"14.00\">MAR ≤ 0.37</text>\n",
       "<text text-anchor=\"start\" x=\"659.52\" y=\"-542.8\" font-family=\"Helvetica,sans-Serif\" font-size=\"14.00\">gini = 0.46</text>\n",
       "<text text-anchor=\"start\" x=\"646.52\" y=\"-527.8\" font-family=\"Helvetica,sans-Serif\" font-size=\"14.00\">samples = 465</text>\n",
       "<text text-anchor=\"start\" x=\"637.02\" y=\"-512.8\" font-family=\"Helvetica,sans-Serif\" font-size=\"14.00\">value = [296, 169]</text>\n",
       "</g>\n",
       "<!-- 1&#45;&gt;11 -->\n",
       "<g id=\"edge11\" class=\"edge\">\n",
       "<title>1&#45;&gt;11</title>\n",
       "<path fill=\"none\" stroke=\"black\" d=\"M691.52,-608.88C691.52,-600.78 691.52,-591.98 691.52,-583.47\"/>\n",
       "<polygon fill=\"black\" stroke=\"black\" points=\"695.02,-583.3 691.52,-573.3 688.02,-583.3 695.02,-583.3\"/>\n",
       "</g>\n",
       "<!-- 3 -->\n",
       "<g id=\"node4\" class=\"node\">\n",
       "<title>3</title>\n",
       "<path fill=\"#f3c5a4\" stroke=\"black\" d=\"M333.52,-461.5C333.52,-461.5 247.52,-461.5 247.52,-461.5 241.52,-461.5 235.52,-455.5 235.52,-449.5 235.52,-449.5 235.52,-420.5 235.52,-420.5 235.52,-414.5 241.52,-408.5 247.52,-408.5 247.52,-408.5 333.52,-408.5 333.52,-408.5 339.52,-408.5 345.52,-414.5 345.52,-420.5 345.52,-420.5 345.52,-449.5 345.52,-449.5 345.52,-455.5 339.52,-461.5 333.52,-461.5\"/>\n",
       "<text text-anchor=\"start\" x=\"258.52\" y=\"-446.3\" font-family=\"Helvetica,sans-Serif\" font-size=\"14.00\">gini = 0.46</text>\n",
       "<text text-anchor=\"start\" x=\"249.52\" y=\"-431.3\" font-family=\"Helvetica,sans-Serif\" font-size=\"14.00\">samples = 91</text>\n",
       "<text text-anchor=\"start\" x=\"243.52\" y=\"-416.3\" font-family=\"Helvetica,sans-Serif\" font-size=\"14.00\">value = [59, 32]</text>\n",
       "</g>\n",
       "<!-- 2&#45;&gt;3 -->\n",
       "<g id=\"edge3\" class=\"edge\">\n",
       "<title>2&#45;&gt;3</title>\n",
       "<path fill=\"none\" stroke=\"black\" d=\"M399.25,-504.88C379.98,-492.68 358.24,-478.9 339.29,-466.9\"/>\n",
       "<polygon fill=\"black\" stroke=\"black\" points=\"341.12,-463.92 330.8,-461.52 337.37,-469.83 341.12,-463.92\"/>\n",
       "</g>\n",
       "<!-- 4 -->\n",
       "<g id=\"node5\" class=\"node\">\n",
       "<title>4</title>\n",
       "<path fill=\"#e6853f\" stroke=\"black\" d=\"M498.02,-469C498.02,-469 405.02,-469 405.02,-469 399.02,-469 393.02,-463 393.02,-457 393.02,-457 393.02,-413 393.02,-413 393.02,-407 399.02,-401 405.02,-401 405.02,-401 498.02,-401 498.02,-401 504.02,-401 510.02,-407 510.02,-413 510.02,-413 510.02,-457 510.02,-457 510.02,-463 504.02,-469 498.02,-469\"/>\n",
       "<text text-anchor=\"start\" x=\"416.52\" y=\"-453.8\" font-family=\"Helvetica,sans-Serif\" font-size=\"14.00\">EAR ≤ 0.12</text>\n",
       "<text text-anchor=\"start\" x=\"419.52\" y=\"-438.8\" font-family=\"Helvetica,sans-Serif\" font-size=\"14.00\">gini = 0.05</text>\n",
       "<text text-anchor=\"start\" x=\"406.52\" y=\"-423.8\" font-family=\"Helvetica,sans-Serif\" font-size=\"14.00\">samples = 570</text>\n",
       "<text text-anchor=\"start\" x=\"401.02\" y=\"-408.8\" font-family=\"Helvetica,sans-Serif\" font-size=\"14.00\">value = [554, 16]</text>\n",
       "</g>\n",
       "<!-- 2&#45;&gt;4 -->\n",
       "<g id=\"edge4\" class=\"edge\">\n",
       "<title>2&#45;&gt;4</title>\n",
       "<path fill=\"none\" stroke=\"black\" d=\"M451.52,-504.88C451.52,-496.78 451.52,-487.98 451.52,-479.47\"/>\n",
       "<polygon fill=\"black\" stroke=\"black\" points=\"455.02,-479.3 451.52,-469.3 448.02,-479.3 455.02,-479.3\"/>\n",
       "</g>\n",
       "<!-- 5 -->\n",
       "<g id=\"node6\" class=\"node\">\n",
       "<title>5</title>\n",
       "<path fill=\"#e5823b\" stroke=\"black\" d=\"M340.52,-365C340.52,-365 254.52,-365 254.52,-365 248.52,-365 242.52,-359 242.52,-353 242.52,-353 242.52,-309 242.52,-309 242.52,-303 248.52,-297 254.52,-297 254.52,-297 340.52,-297 340.52,-297 346.52,-297 352.52,-303 352.52,-309 352.52,-309 352.52,-353 352.52,-353 352.52,-359 346.52,-365 340.52,-365\"/>\n",
       "<text text-anchor=\"start\" x=\"261.02\" y=\"-349.8\" font-family=\"Helvetica,sans-Serif\" font-size=\"14.00\">MAR ≤ 0.26</text>\n",
       "<text text-anchor=\"start\" x=\"265.52\" y=\"-334.8\" font-family=\"Helvetica,sans-Serif\" font-size=\"14.00\">gini = 0.02</text>\n",
       "<text text-anchor=\"start\" x=\"252.52\" y=\"-319.8\" font-family=\"Helvetica,sans-Serif\" font-size=\"14.00\">samples = 493</text>\n",
       "<text text-anchor=\"start\" x=\"250.52\" y=\"-304.8\" font-family=\"Helvetica,sans-Serif\" font-size=\"14.00\">value = [489, 4]</text>\n",
       "</g>\n",
       "<!-- 4&#45;&gt;5 -->\n",
       "<g id=\"edge5\" class=\"edge\">\n",
       "<title>4&#45;&gt;5</title>\n",
       "<path fill=\"none\" stroke=\"black\" d=\"M401.52,-400.88C387.06,-391.3 371.14,-380.76 356.2,-370.86\"/>\n",
       "<polygon fill=\"black\" stroke=\"black\" points=\"357.8,-367.73 347.53,-365.12 353.94,-373.56 357.8,-367.73\"/>\n",
       "</g>\n",
       "<!-- 10 -->\n",
       "<g id=\"node11\" class=\"node\">\n",
       "<title>10</title>\n",
       "<path fill=\"#ea985e\" stroke=\"black\" d=\"M496.52,-357.5C496.52,-357.5 410.52,-357.5 410.52,-357.5 404.52,-357.5 398.52,-351.5 398.52,-345.5 398.52,-345.5 398.52,-316.5 398.52,-316.5 398.52,-310.5 404.52,-304.5 410.52,-304.5 410.52,-304.5 496.52,-304.5 496.52,-304.5 502.52,-304.5 508.52,-310.5 508.52,-316.5 508.52,-316.5 508.52,-345.5 508.52,-345.5 508.52,-351.5 502.52,-357.5 496.52,-357.5\"/>\n",
       "<text text-anchor=\"start\" x=\"421.52\" y=\"-342.3\" font-family=\"Helvetica,sans-Serif\" font-size=\"14.00\">gini = 0.26</text>\n",
       "<text text-anchor=\"start\" x=\"412.52\" y=\"-327.3\" font-family=\"Helvetica,sans-Serif\" font-size=\"14.00\">samples = 77</text>\n",
       "<text text-anchor=\"start\" x=\"406.52\" y=\"-312.3\" font-family=\"Helvetica,sans-Serif\" font-size=\"14.00\">value = [65, 12]</text>\n",
       "</g>\n",
       "<!-- 4&#45;&gt;10 -->\n",
       "<g id=\"edge10\" class=\"edge\">\n",
       "<title>4&#45;&gt;10</title>\n",
       "<path fill=\"none\" stroke=\"black\" d=\"M452.17,-400.88C452.38,-390.22 452.61,-378.35 452.82,-367.52\"/>\n",
       "<polygon fill=\"black\" stroke=\"black\" points=\"456.32,-367.59 453.02,-357.52 449.32,-367.45 456.32,-367.59\"/>\n",
       "</g>\n",
       "<!-- 6 -->\n",
       "<g id=\"node7\" class=\"node\">\n",
       "<title>6</title>\n",
       "<path fill=\"#e58139\" stroke=\"black\" d=\"M189.52,-261C189.52,-261 81.52,-261 81.52,-261 75.52,-261 69.52,-255 69.52,-249 69.52,-249 69.52,-205 69.52,-205 69.52,-199 75.52,-193 81.52,-193 81.52,-193 189.52,-193 189.52,-193 195.52,-193 201.52,-199 201.52,-205 201.52,-205 201.52,-249 201.52,-249 201.52,-255 195.52,-261 189.52,-261\"/>\n",
       "<text text-anchor=\"start\" x=\"97.02\" y=\"-245.8\" font-family=\"Helvetica,sans-Serif\" font-size=\"14.00\">Roll ≤ &#45;51.89</text>\n",
       "<text text-anchor=\"start\" x=\"107.52\" y=\"-230.8\" font-family=\"Helvetica,sans-Serif\" font-size=\"14.00\">gini = 0.0</text>\n",
       "<text text-anchor=\"start\" x=\"90.52\" y=\"-215.8\" font-family=\"Helvetica,sans-Serif\" font-size=\"14.00\">samples = 443</text>\n",
       "<text text-anchor=\"start\" x=\"77.52\" y=\"-200.8\" font-family=\"Helvetica,sans-Serif\" font-size=\"14.00\">value = [442.0, 1.0]</text>\n",
       "</g>\n",
       "<!-- 5&#45;&gt;6 -->\n",
       "<g id=\"edge6\" class=\"edge\">\n",
       "<title>5&#45;&gt;6</title>\n",
       "<path fill=\"none\" stroke=\"black\" d=\"M244.92,-296.88C229.57,-287.21 212.65,-276.56 196.8,-266.59\"/>\n",
       "<polygon fill=\"black\" stroke=\"black\" points=\"198.46,-263.49 188.13,-261.12 194.73,-269.41 198.46,-263.49\"/>\n",
       "</g>\n",
       "<!-- 9 -->\n",
       "<g id=\"node10\" class=\"node\">\n",
       "<title>9</title>\n",
       "<path fill=\"#e78946\" stroke=\"black\" d=\"M339.52,-253.5C339.52,-253.5 261.52,-253.5 261.52,-253.5 255.52,-253.5 249.52,-247.5 249.52,-241.5 249.52,-241.5 249.52,-212.5 249.52,-212.5 249.52,-206.5 255.52,-200.5 261.52,-200.5 261.52,-200.5 339.52,-200.5 339.52,-200.5 345.52,-200.5 351.52,-206.5 351.52,-212.5 351.52,-212.5 351.52,-241.5 351.52,-241.5 351.52,-247.5 345.52,-253.5 339.52,-253.5\"/>\n",
       "<text text-anchor=\"start\" x=\"268.52\" y=\"-238.3\" font-family=\"Helvetica,sans-Serif\" font-size=\"14.00\">gini = 0.11</text>\n",
       "<text text-anchor=\"start\" x=\"259.52\" y=\"-223.3\" font-family=\"Helvetica,sans-Serif\" font-size=\"14.00\">samples = 50</text>\n",
       "<text text-anchor=\"start\" x=\"257.52\" y=\"-208.3\" font-family=\"Helvetica,sans-Serif\" font-size=\"14.00\">value = [47, 3]</text>\n",
       "</g>\n",
       "<!-- 5&#45;&gt;9 -->\n",
       "<g id=\"edge9\" class=\"edge\">\n",
       "<title>5&#45;&gt;9</title>\n",
       "<path fill=\"none\" stroke=\"black\" d=\"M298.49,-296.88C298.81,-286.22 299.16,-274.35 299.47,-263.52\"/>\n",
       "<polygon fill=\"black\" stroke=\"black\" points=\"302.97,-263.62 299.77,-253.52 295.98,-263.41 302.97,-263.62\"/>\n",
       "</g>\n",
       "<!-- 7 -->\n",
       "<g id=\"node8\" class=\"node\">\n",
       "<title>7</title>\n",
       "<path fill=\"#e6843d\" stroke=\"black\" d=\"M101.52,-149.5C101.52,-149.5 23.52,-149.5 23.52,-149.5 17.52,-149.5 11.52,-143.5 11.52,-137.5 11.52,-137.5 11.52,-108.5 11.52,-108.5 11.52,-102.5 17.52,-96.5 23.52,-96.5 23.52,-96.5 101.52,-96.5 101.52,-96.5 107.52,-96.5 113.52,-102.5 113.52,-108.5 113.52,-108.5 113.52,-137.5 113.52,-137.5 113.52,-143.5 107.52,-149.5 101.52,-149.5\"/>\n",
       "<text text-anchor=\"start\" x=\"30.52\" y=\"-134.3\" font-family=\"Helvetica,sans-Serif\" font-size=\"14.00\">gini = 0.04</text>\n",
       "<text text-anchor=\"start\" x=\"21.52\" y=\"-119.3\" font-family=\"Helvetica,sans-Serif\" font-size=\"14.00\">samples = 50</text>\n",
       "<text text-anchor=\"start\" x=\"19.52\" y=\"-104.3\" font-family=\"Helvetica,sans-Serif\" font-size=\"14.00\">value = [49, 1]</text>\n",
       "</g>\n",
       "<!-- 6&#45;&gt;7 -->\n",
       "<g id=\"edge7\" class=\"edge\">\n",
       "<title>6&#45;&gt;7</title>\n",
       "<path fill=\"none\" stroke=\"black\" d=\"M111.82,-192.88C103.79,-181.67 94.82,-169.13 86.75,-157.85\"/>\n",
       "<polygon fill=\"black\" stroke=\"black\" points=\"89.45,-155.61 80.78,-149.52 83.76,-159.69 89.45,-155.61\"/>\n",
       "</g>\n",
       "<!-- 8 -->\n",
       "<g id=\"node9\" class=\"node\">\n",
       "<title>8</title>\n",
       "<path fill=\"#e58139\" stroke=\"black\" d=\"M256.52,-149.5C256.52,-149.5 170.52,-149.5 170.52,-149.5 164.52,-149.5 158.52,-143.5 158.52,-137.5 158.52,-137.5 158.52,-108.5 158.52,-108.5 158.52,-102.5 164.52,-96.5 170.52,-96.5 170.52,-96.5 256.52,-96.5 256.52,-96.5 262.52,-96.5 268.52,-102.5 268.52,-108.5 268.52,-108.5 268.52,-137.5 268.52,-137.5 268.52,-143.5 262.52,-149.5 256.52,-149.5\"/>\n",
       "<text text-anchor=\"start\" x=\"185.52\" y=\"-134.3\" font-family=\"Helvetica,sans-Serif\" font-size=\"14.00\">gini = 0.0</text>\n",
       "<text text-anchor=\"start\" x=\"168.52\" y=\"-119.3\" font-family=\"Helvetica,sans-Serif\" font-size=\"14.00\">samples = 393</text>\n",
       "<text text-anchor=\"start\" x=\"166.52\" y=\"-104.3\" font-family=\"Helvetica,sans-Serif\" font-size=\"14.00\">value = [393, 0]</text>\n",
       "</g>\n",
       "<!-- 6&#45;&gt;8 -->\n",
       "<g id=\"edge8\" class=\"edge\">\n",
       "<title>6&#45;&gt;8</title>\n",
       "<path fill=\"none\" stroke=\"black\" d=\"M160.84,-192.88C169.51,-181.56 179.2,-168.88 187.89,-157.52\"/>\n",
       "<polygon fill=\"black\" stroke=\"black\" points=\"190.71,-159.59 194,-149.52 185.15,-155.34 190.71,-159.59\"/>\n",
       "</g>\n",
       "<!-- 12 -->\n",
       "<g id=\"node13\" class=\"node\">\n",
       "<title>12</title>\n",
       "<path fill=\"#fae5d5\" stroke=\"black\" d=\"M671.02,-469C671.02,-469 570.02,-469 570.02,-469 564.02,-469 558.02,-463 558.02,-457 558.02,-457 558.02,-413 558.02,-413 558.02,-407 564.02,-401 570.02,-401 570.02,-401 671.02,-401 671.02,-401 677.02,-401 683.02,-407 683.02,-413 683.02,-413 683.02,-457 683.02,-457 683.02,-463 677.02,-469 671.02,-469\"/>\n",
       "<text text-anchor=\"start\" x=\"585.52\" y=\"-453.8\" font-family=\"Helvetica,sans-Serif\" font-size=\"14.00\">EAR ≤ 0.23</text>\n",
       "<text text-anchor=\"start\" x=\"588.52\" y=\"-438.8\" font-family=\"Helvetica,sans-Serif\" font-size=\"14.00\">gini = 0.49</text>\n",
       "<text text-anchor=\"start\" x=\"575.52\" y=\"-423.8\" font-family=\"Helvetica,sans-Serif\" font-size=\"14.00\">samples = 367</text>\n",
       "<text text-anchor=\"start\" x=\"566.02\" y=\"-408.8\" font-family=\"Helvetica,sans-Serif\" font-size=\"14.00\">value = [205, 162]</text>\n",
       "</g>\n",
       "<!-- 11&#45;&gt;12 -->\n",
       "<g id=\"edge12\" class=\"edge\">\n",
       "<title>11&#45;&gt;12</title>\n",
       "<path fill=\"none\" stroke=\"black\" d=\"M668.47,-504.88C662.39,-496.15 655.76,-486.62 649.42,-477.51\"/>\n",
       "<polygon fill=\"black\" stroke=\"black\" points=\"652.28,-475.51 643.7,-469.3 646.54,-479.51 652.28,-475.51\"/>\n",
       "</g>\n",
       "<!-- 23 -->\n",
       "<g id=\"node24\" class=\"node\">\n",
       "<title>23</title>\n",
       "<path fill=\"#e78b48\" stroke=\"black\" d=\"M820.52,-461.5C820.52,-461.5 742.52,-461.5 742.52,-461.5 736.52,-461.5 730.52,-455.5 730.52,-449.5 730.52,-449.5 730.52,-420.5 730.52,-420.5 730.52,-414.5 736.52,-408.5 742.52,-408.5 742.52,-408.5 820.52,-408.5 820.52,-408.5 826.52,-408.5 832.52,-414.5 832.52,-420.5 832.52,-420.5 832.52,-449.5 832.52,-449.5 832.52,-455.5 826.52,-461.5 820.52,-461.5\"/>\n",
       "<text text-anchor=\"start\" x=\"749.52\" y=\"-446.3\" font-family=\"Helvetica,sans-Serif\" font-size=\"14.00\">gini = 0.13</text>\n",
       "<text text-anchor=\"start\" x=\"740.52\" y=\"-431.3\" font-family=\"Helvetica,sans-Serif\" font-size=\"14.00\">samples = 98</text>\n",
       "<text text-anchor=\"start\" x=\"738.52\" y=\"-416.3\" font-family=\"Helvetica,sans-Serif\" font-size=\"14.00\">value = [91, 7]</text>\n",
       "</g>\n",
       "<!-- 11&#45;&gt;23 -->\n",
       "<g id=\"edge23\" class=\"edge\">\n",
       "<title>11&#45;&gt;23</title>\n",
       "<path fill=\"none\" stroke=\"black\" d=\"M720.74,-504.88C730.83,-493.45 742.14,-480.63 752.23,-469.19\"/>\n",
       "<polygon fill=\"black\" stroke=\"black\" points=\"755.01,-471.33 759,-461.52 749.76,-466.7 755.01,-471.33\"/>\n",
       "</g>\n",
       "<!-- 13 -->\n",
       "<g id=\"node14\" class=\"node\">\n",
       "<title>13</title>\n",
       "<path fill=\"#f1bd97\" stroke=\"black\" d=\"M665.02,-365C665.02,-365 572.02,-365 572.02,-365 566.02,-365 560.02,-359 560.02,-353 560.02,-353 560.02,-309 560.02,-309 560.02,-303 566.02,-297 572.02,-297 572.02,-297 665.02,-297 665.02,-297 671.02,-297 677.02,-303 677.02,-309 677.02,-309 677.02,-353 677.02,-353 677.02,-359 671.02,-365 665.02,-365\"/>\n",
       "<text text-anchor=\"start\" x=\"582.52\" y=\"-349.8\" font-family=\"Helvetica,sans-Serif\" font-size=\"14.00\">Pitch ≤ 5.31</text>\n",
       "<text text-anchor=\"start\" x=\"586.52\" y=\"-334.8\" font-family=\"Helvetica,sans-Serif\" font-size=\"14.00\">gini = 0.44</text>\n",
       "<text text-anchor=\"start\" x=\"573.52\" y=\"-319.8\" font-family=\"Helvetica,sans-Serif\" font-size=\"14.00\">samples = 236</text>\n",
       "<text text-anchor=\"start\" x=\"568.02\" y=\"-304.8\" font-family=\"Helvetica,sans-Serif\" font-size=\"14.00\">value = [160, 76]</text>\n",
       "</g>\n",
       "<!-- 12&#45;&gt;13 -->\n",
       "<g id=\"edge13\" class=\"edge\">\n",
       "<title>12&#45;&gt;13</title>\n",
       "<path fill=\"none\" stroke=\"black\" d=\"M619.87,-400.88C619.71,-392.78 619.54,-383.98 619.37,-375.47\"/>\n",
       "<polygon fill=\"black\" stroke=\"black\" points=\"622.87,-375.23 619.17,-365.3 615.87,-375.37 622.87,-375.23\"/>\n",
       "</g>\n",
       "<!-- 20 -->\n",
       "<g id=\"node21\" class=\"node\">\n",
       "<title>20</title>\n",
       "<path fill=\"#a1d0f3\" stroke=\"black\" d=\"M822.52,-365C822.52,-365 736.52,-365 736.52,-365 730.52,-365 724.52,-359 724.52,-353 724.52,-353 724.52,-309 724.52,-309 724.52,-303 730.52,-297 736.52,-297 736.52,-297 822.52,-297 822.52,-297 828.52,-297 834.52,-303 834.52,-309 834.52,-309 834.52,-353 834.52,-353 834.52,-359 828.52,-365 822.52,-365\"/>\n",
       "<text text-anchor=\"start\" x=\"741.52\" y=\"-349.8\" font-family=\"Helvetica,sans-Serif\" font-size=\"14.00\">Pitch ≤ &#45;1.91</text>\n",
       "<text text-anchor=\"start\" x=\"747.52\" y=\"-334.8\" font-family=\"Helvetica,sans-Serif\" font-size=\"14.00\">gini = 0.45</text>\n",
       "<text text-anchor=\"start\" x=\"734.52\" y=\"-319.8\" font-family=\"Helvetica,sans-Serif\" font-size=\"14.00\">samples = 131</text>\n",
       "<text text-anchor=\"start\" x=\"732.52\" y=\"-304.8\" font-family=\"Helvetica,sans-Serif\" font-size=\"14.00\">value = [45, 86]</text>\n",
       "</g>\n",
       "<!-- 12&#45;&gt;20 -->\n",
       "<g id=\"edge20\" class=\"edge\">\n",
       "<title>12&#45;&gt;20</title>\n",
       "<path fill=\"none\" stroke=\"black\" d=\"M672.14,-400.88C687.21,-391.21 703.82,-380.56 719.37,-370.59\"/>\n",
       "<polygon fill=\"black\" stroke=\"black\" points=\"721.36,-373.47 727.88,-365.12 717.58,-367.58 721.36,-373.47\"/>\n",
       "</g>\n",
       "<!-- 14 -->\n",
       "<g id=\"node15\" class=\"node\">\n",
       "<title>14</title>\n",
       "<path fill=\"#eda673\" stroke=\"black\" d=\"M509.02,-261C509.02,-261 416.02,-261 416.02,-261 410.02,-261 404.02,-255 404.02,-249 404.02,-249 404.02,-205 404.02,-205 404.02,-199 410.02,-193 416.02,-193 416.02,-193 509.02,-193 509.02,-193 515.02,-193 521.02,-199 521.02,-205 521.02,-205 521.02,-249 521.02,-249 521.02,-255 515.02,-261 509.02,-261\"/>\n",
       "<text text-anchor=\"start\" x=\"430.02\" y=\"-245.8\" font-family=\"Helvetica,sans-Serif\" font-size=\"14.00\">Roll ≤ 0.94</text>\n",
       "<text text-anchor=\"start\" x=\"430.52\" y=\"-230.8\" font-family=\"Helvetica,sans-Serif\" font-size=\"14.00\">gini = 0.35</text>\n",
       "<text text-anchor=\"start\" x=\"417.52\" y=\"-215.8\" font-family=\"Helvetica,sans-Serif\" font-size=\"14.00\">samples = 181</text>\n",
       "<text text-anchor=\"start\" x=\"412.02\" y=\"-200.8\" font-family=\"Helvetica,sans-Serif\" font-size=\"14.00\">value = [140, 41]</text>\n",
       "</g>\n",
       "<!-- 13&#45;&gt;14 -->\n",
       "<g id=\"edge14\" class=\"edge\">\n",
       "<title>13&#45;&gt;14</title>\n",
       "<path fill=\"none\" stroke=\"black\" d=\"M567.87,-296.88C553.22,-287.3 537.09,-276.76 521.96,-266.86\"/>\n",
       "<polygon fill=\"black\" stroke=\"black\" points=\"523.47,-263.67 513.18,-261.12 519.63,-269.53 523.47,-263.67\"/>\n",
       "</g>\n",
       "<!-- 19 -->\n",
       "<g id=\"node20\" class=\"node\">\n",
       "<title>19</title>\n",
       "<path fill=\"#aad5f4\" stroke=\"black\" d=\"M666.52,-253.5C666.52,-253.5 580.52,-253.5 580.52,-253.5 574.52,-253.5 568.52,-247.5 568.52,-241.5 568.52,-241.5 568.52,-212.5 568.52,-212.5 568.52,-206.5 574.52,-200.5 580.52,-200.5 580.52,-200.5 666.52,-200.5 666.52,-200.5 672.52,-200.5 678.52,-206.5 678.52,-212.5 678.52,-212.5 678.52,-241.5 678.52,-241.5 678.52,-247.5 672.52,-253.5 666.52,-253.5\"/>\n",
       "<text text-anchor=\"start\" x=\"591.52\" y=\"-238.3\" font-family=\"Helvetica,sans-Serif\" font-size=\"14.00\">gini = 0.46</text>\n",
       "<text text-anchor=\"start\" x=\"582.52\" y=\"-223.3\" font-family=\"Helvetica,sans-Serif\" font-size=\"14.00\">samples = 55</text>\n",
       "<text text-anchor=\"start\" x=\"576.52\" y=\"-208.3\" font-family=\"Helvetica,sans-Serif\" font-size=\"14.00\">value = [20, 35]</text>\n",
       "</g>\n",
       "<!-- 13&#45;&gt;19 -->\n",
       "<g id=\"edge19\" class=\"edge\">\n",
       "<title>13&#45;&gt;19</title>\n",
       "<path fill=\"none\" stroke=\"black\" d=\"M620.14,-296.88C620.67,-286.22 621.25,-274.35 621.78,-263.52\"/>\n",
       "<polygon fill=\"black\" stroke=\"black\" points=\"625.27,-263.68 622.27,-253.52 618.28,-263.34 625.27,-263.68\"/>\n",
       "</g>\n",
       "<!-- 15 -->\n",
       "<g id=\"node16\" class=\"node\">\n",
       "<title>15</title>\n",
       "<path fill=\"#fbebe0\" stroke=\"black\" d=\"M455.52,-149.5C455.52,-149.5 369.52,-149.5 369.52,-149.5 363.52,-149.5 357.52,-143.5 357.52,-137.5 357.52,-137.5 357.52,-108.5 357.52,-108.5 357.52,-102.5 363.52,-96.5 369.52,-96.5 369.52,-96.5 455.52,-96.5 455.52,-96.5 461.52,-96.5 467.52,-102.5 467.52,-108.5 467.52,-108.5 467.52,-137.5 467.52,-137.5 467.52,-143.5 461.52,-149.5 455.52,-149.5\"/>\n",
       "<text text-anchor=\"start\" x=\"384.52\" y=\"-134.3\" font-family=\"Helvetica,sans-Serif\" font-size=\"14.00\">gini = 0.5</text>\n",
       "<text text-anchor=\"start\" x=\"371.52\" y=\"-119.3\" font-family=\"Helvetica,sans-Serif\" font-size=\"14.00\">samples = 59</text>\n",
       "<text text-anchor=\"start\" x=\"365.52\" y=\"-104.3\" font-family=\"Helvetica,sans-Serif\" font-size=\"14.00\">value = [32, 27]</text>\n",
       "</g>\n",
       "<!-- 14&#45;&gt;15 -->\n",
       "<g id=\"edge15\" class=\"edge\">\n",
       "<title>14&#45;&gt;15</title>\n",
       "<path fill=\"none\" stroke=\"black\" d=\"M446.29,-192.88C440.89,-181.89 434.88,-169.62 429.44,-158.52\"/>\n",
       "<polygon fill=\"black\" stroke=\"black\" points=\"432.57,-156.96 425.03,-149.52 426.29,-160.04 432.57,-156.96\"/>\n",
       "</g>\n",
       "<!-- 16 -->\n",
       "<g id=\"node17\" class=\"node\">\n",
       "<title>16</title>\n",
       "<path fill=\"#e89153\" stroke=\"black\" d=\"M620.02,-157C620.02,-157 527.02,-157 527.02,-157 521.02,-157 515.02,-151 515.02,-145 515.02,-145 515.02,-101 515.02,-101 515.02,-95 521.02,-89 527.02,-89 527.02,-89 620.02,-89 620.02,-89 626.02,-89 632.02,-95 632.02,-101 632.02,-101 632.02,-145 632.02,-145 632.02,-151 626.02,-157 620.02,-157\"/>\n",
       "<text text-anchor=\"start\" x=\"537.02\" y=\"-141.8\" font-family=\"Helvetica,sans-Serif\" font-size=\"14.00\">Roll ≤ 33.81</text>\n",
       "<text text-anchor=\"start\" x=\"545.52\" y=\"-126.8\" font-family=\"Helvetica,sans-Serif\" font-size=\"14.00\">gini = 0.2</text>\n",
       "<text text-anchor=\"start\" x=\"528.52\" y=\"-111.8\" font-family=\"Helvetica,sans-Serif\" font-size=\"14.00\">samples = 122</text>\n",
       "<text text-anchor=\"start\" x=\"523.02\" y=\"-96.8\" font-family=\"Helvetica,sans-Serif\" font-size=\"14.00\">value = [108, 14]</text>\n",
       "</g>\n",
       "<!-- 14&#45;&gt;16 -->\n",
       "<g id=\"edge16\" class=\"edge\">\n",
       "<title>14&#45;&gt;16</title>\n",
       "<path fill=\"none\" stroke=\"black\" d=\"M498.56,-192.88C508.54,-183.71 519.49,-173.65 529.86,-164.12\"/>\n",
       "<polygon fill=\"black\" stroke=\"black\" points=\"532.29,-166.64 537.28,-157.3 527.55,-161.49 532.29,-166.64\"/>\n",
       "</g>\n",
       "<!-- 17 -->\n",
       "<g id=\"node18\" class=\"node\">\n",
       "<title>17</title>\n",
       "<path fill=\"#e78945\" stroke=\"black\" d=\"M536.52,-52.5C536.52,-52.5 458.52,-52.5 458.52,-52.5 452.52,-52.5 446.52,-46.5 446.52,-40.5 446.52,-40.5 446.52,-11.5 446.52,-11.5 446.52,-5.5 452.52,0.5 458.52,0.5 458.52,0.5 536.52,0.5 536.52,0.5 542.52,0.5 548.52,-5.5 548.52,-11.5 548.52,-11.5 548.52,-40.5 548.52,-40.5 548.52,-46.5 542.52,-52.5 536.52,-52.5\"/>\n",
       "<text text-anchor=\"start\" x=\"465.52\" y=\"-37.3\" font-family=\"Helvetica,sans-Serif\" font-size=\"14.00\">gini = 0.11</text>\n",
       "<text text-anchor=\"start\" x=\"456.52\" y=\"-22.3\" font-family=\"Helvetica,sans-Serif\" font-size=\"14.00\">samples = 71</text>\n",
       "<text text-anchor=\"start\" x=\"454.52\" y=\"-7.3\" font-family=\"Helvetica,sans-Serif\" font-size=\"14.00\">value = [67, 4]</text>\n",
       "</g>\n",
       "<!-- 16&#45;&gt;17 -->\n",
       "<g id=\"edge17\" class=\"edge\">\n",
       "<title>16&#45;&gt;17</title>\n",
       "<path fill=\"none\" stroke=\"black\" d=\"M546.94,-88.77C539.59,-79.59 531.61,-69.61 524.25,-60.42\"/>\n",
       "<polygon fill=\"black\" stroke=\"black\" points=\"526.96,-58.19 517.98,-52.57 521.49,-62.57 526.96,-58.19\"/>\n",
       "</g>\n",
       "<!-- 18 -->\n",
       "<g id=\"node19\" class=\"node\">\n",
       "<title>18</title>\n",
       "<path fill=\"#eba069\" stroke=\"black\" d=\"M691.52,-52.5C691.52,-52.5 605.52,-52.5 605.52,-52.5 599.52,-52.5 593.52,-46.5 593.52,-40.5 593.52,-40.5 593.52,-11.5 593.52,-11.5 593.52,-5.5 599.52,0.5 605.52,0.5 605.52,0.5 691.52,0.5 691.52,0.5 697.52,0.5 703.52,-5.5 703.52,-11.5 703.52,-11.5 703.52,-40.5 703.52,-40.5 703.52,-46.5 697.52,-52.5 691.52,-52.5\"/>\n",
       "<text text-anchor=\"start\" x=\"616.52\" y=\"-37.3\" font-family=\"Helvetica,sans-Serif\" font-size=\"14.00\">gini = 0.32</text>\n",
       "<text text-anchor=\"start\" x=\"607.52\" y=\"-22.3\" font-family=\"Helvetica,sans-Serif\" font-size=\"14.00\">samples = 51</text>\n",
       "<text text-anchor=\"start\" x=\"601.52\" y=\"-7.3\" font-family=\"Helvetica,sans-Serif\" font-size=\"14.00\">value = [41, 10]</text>\n",
       "</g>\n",
       "<!-- 16&#45;&gt;18 -->\n",
       "<g id=\"edge18\" class=\"edge\">\n",
       "<title>16&#45;&gt;18</title>\n",
       "<path fill=\"none\" stroke=\"black\" d=\"M599.75,-88.77C606.93,-79.68 614.72,-69.82 621.92,-60.69\"/>\n",
       "<polygon fill=\"black\" stroke=\"black\" points=\"624.88,-62.59 628.33,-52.57 619.39,-58.25 624.88,-62.59\"/>\n",
       "</g>\n",
       "<!-- 21 -->\n",
       "<g id=\"node22\" class=\"node\">\n",
       "<title>21</title>\n",
       "<path fill=\"#5baeea\" stroke=\"black\" d=\"M817.52,-253.5C817.52,-253.5 739.52,-253.5 739.52,-253.5 733.52,-253.5 727.52,-247.5 727.52,-241.5 727.52,-241.5 727.52,-212.5 727.52,-212.5 727.52,-206.5 733.52,-200.5 739.52,-200.5 739.52,-200.5 817.52,-200.5 817.52,-200.5 823.52,-200.5 829.52,-206.5 829.52,-212.5 829.52,-212.5 829.52,-241.5 829.52,-241.5 829.52,-247.5 823.52,-253.5 817.52,-253.5\"/>\n",
       "<text text-anchor=\"start\" x=\"746.52\" y=\"-238.3\" font-family=\"Helvetica,sans-Serif\" font-size=\"14.00\">gini = 0.25</text>\n",
       "<text text-anchor=\"start\" x=\"737.52\" y=\"-223.3\" font-family=\"Helvetica,sans-Serif\" font-size=\"14.00\">samples = 61</text>\n",
       "<text text-anchor=\"start\" x=\"735.52\" y=\"-208.3\" font-family=\"Helvetica,sans-Serif\" font-size=\"14.00\">value = [9, 52]</text>\n",
       "</g>\n",
       "<!-- 20&#45;&gt;21 -->\n",
       "<g id=\"edge21\" class=\"edge\">\n",
       "<title>20&#45;&gt;21</title>\n",
       "<path fill=\"none\" stroke=\"black\" d=\"M779.19,-296.88C779.09,-286.33 778.98,-274.6 778.87,-263.85\"/>\n",
       "<polygon fill=\"black\" stroke=\"black\" points=\"782.37,-263.49 778.77,-253.52 775.37,-263.55 782.37,-263.49\"/>\n",
       "</g>\n",
       "<!-- 22 -->\n",
       "<g id=\"node23\" class=\"node\">\n",
       "<title>22</title>\n",
       "<path fill=\"#fef8f4\" stroke=\"black\" d=\"M972.52,-253.5C972.52,-253.5 886.52,-253.5 886.52,-253.5 880.52,-253.5 874.52,-247.5 874.52,-241.5 874.52,-241.5 874.52,-212.5 874.52,-212.5 874.52,-206.5 880.52,-200.5 886.52,-200.5 886.52,-200.5 972.52,-200.5 972.52,-200.5 978.52,-200.5 984.52,-206.5 984.52,-212.5 984.52,-212.5 984.52,-241.5 984.52,-241.5 984.52,-247.5 978.52,-253.5 972.52,-253.5\"/>\n",
       "<text text-anchor=\"start\" x=\"901.52\" y=\"-238.3\" font-family=\"Helvetica,sans-Serif\" font-size=\"14.00\">gini = 0.5</text>\n",
       "<text text-anchor=\"start\" x=\"888.52\" y=\"-223.3\" font-family=\"Helvetica,sans-Serif\" font-size=\"14.00\">samples = 70</text>\n",
       "<text text-anchor=\"start\" x=\"882.52\" y=\"-208.3\" font-family=\"Helvetica,sans-Serif\" font-size=\"14.00\">value = [36, 34]</text>\n",
       "</g>\n",
       "<!-- 20&#45;&gt;22 -->\n",
       "<g id=\"edge22\" class=\"edge\">\n",
       "<title>20&#45;&gt;22</title>\n",
       "<path fill=\"none\" stroke=\"black\" d=\"M828.22,-296.88C846.01,-284.79 866.06,-271.15 883.6,-259.22\"/>\n",
       "<polygon fill=\"black\" stroke=\"black\" points=\"885.69,-262.04 891.99,-253.52 881.75,-256.25 885.69,-262.04\"/>\n",
       "</g>\n",
       "<!-- 25 -->\n",
       "<g id=\"node26\" class=\"node\">\n",
       "<title>25</title>\n",
       "<path fill=\"#41a1e6\" stroke=\"black\" d=\"M980.02,-573C980.02,-573 887.02,-573 887.02,-573 881.02,-573 875.02,-567 875.02,-561 875.02,-561 875.02,-517 875.02,-517 875.02,-511 881.02,-505 887.02,-505 887.02,-505 980.02,-505 980.02,-505 986.02,-505 992.02,-511 992.02,-517 992.02,-517 992.02,-561 992.02,-561 992.02,-567 986.02,-573 980.02,-573\"/>\n",
       "<text text-anchor=\"start\" x=\"898.52\" y=\"-557.8\" font-family=\"Helvetica,sans-Serif\" font-size=\"14.00\">EAR ≤ 0.29</text>\n",
       "<text text-anchor=\"start\" x=\"901.52\" y=\"-542.8\" font-family=\"Helvetica,sans-Serif\" font-size=\"14.00\">gini = 0.07</text>\n",
       "<text text-anchor=\"start\" x=\"888.52\" y=\"-527.8\" font-family=\"Helvetica,sans-Serif\" font-size=\"14.00\">samples = 597</text>\n",
       "<text text-anchor=\"start\" x=\"883.02\" y=\"-512.8\" font-family=\"Helvetica,sans-Serif\" font-size=\"14.00\">value = [22, 575]</text>\n",
       "</g>\n",
       "<!-- 24&#45;&gt;25 -->\n",
       "<g id=\"edge25\" class=\"edge\">\n",
       "<title>24&#45;&gt;25</title>\n",
       "<path fill=\"none\" stroke=\"black\" d=\"M933.52,-608.88C933.52,-600.78 933.52,-591.98 933.52,-583.47\"/>\n",
       "<polygon fill=\"black\" stroke=\"black\" points=\"937.02,-583.3 933.52,-573.3 930.02,-583.3 937.02,-583.3\"/>\n",
       "</g>\n",
       "<!-- 32 -->\n",
       "<g id=\"node33\" class=\"node\">\n",
       "<title>32</title>\n",
       "<path fill=\"#f6d4bb\" stroke=\"black\" d=\"M1137.52,-565.5C1137.52,-565.5 1051.52,-565.5 1051.52,-565.5 1045.52,-565.5 1039.52,-559.5 1039.52,-553.5 1039.52,-553.5 1039.52,-524.5 1039.52,-524.5 1039.52,-518.5 1045.52,-512.5 1051.52,-512.5 1051.52,-512.5 1137.52,-512.5 1137.52,-512.5 1143.52,-512.5 1149.52,-518.5 1149.52,-524.5 1149.52,-524.5 1149.52,-553.5 1149.52,-553.5 1149.52,-559.5 1143.52,-565.5 1137.52,-565.5\"/>\n",
       "<text text-anchor=\"start\" x=\"1062.52\" y=\"-550.3\" font-family=\"Helvetica,sans-Serif\" font-size=\"14.00\">gini = 0.48</text>\n",
       "<text text-anchor=\"start\" x=\"1053.52\" y=\"-535.3\" font-family=\"Helvetica,sans-Serif\" font-size=\"14.00\">samples = 53</text>\n",
       "<text text-anchor=\"start\" x=\"1047.52\" y=\"-520.3\" font-family=\"Helvetica,sans-Serif\" font-size=\"14.00\">value = [32, 21]</text>\n",
       "</g>\n",
       "<!-- 24&#45;&gt;32 -->\n",
       "<g id=\"edge32\" class=\"edge\">\n",
       "<title>24&#45;&gt;32</title>\n",
       "<path fill=\"none\" stroke=\"black\" d=\"M985.79,-608.88C1005.06,-596.68 1026.8,-582.9 1045.75,-570.9\"/>\n",
       "<polygon fill=\"black\" stroke=\"black\" points=\"1047.66,-573.83 1054.24,-565.52 1043.92,-567.92 1047.66,-573.83\"/>\n",
       "</g>\n",
       "<!-- 26 -->\n",
       "<g id=\"node27\" class=\"node\">\n",
       "<title>26</title>\n",
       "<path fill=\"#5baeea\" stroke=\"black\" d=\"M976.52,-461.5C976.52,-461.5 890.52,-461.5 890.52,-461.5 884.52,-461.5 878.52,-455.5 878.52,-449.5 878.52,-449.5 878.52,-420.5 878.52,-420.5 878.52,-414.5 884.52,-408.5 890.52,-408.5 890.52,-408.5 976.52,-408.5 976.52,-408.5 982.52,-408.5 988.52,-414.5 988.52,-420.5 988.52,-420.5 988.52,-449.5 988.52,-449.5 988.52,-455.5 982.52,-461.5 976.52,-461.5\"/>\n",
       "<text text-anchor=\"start\" x=\"901.52\" y=\"-446.3\" font-family=\"Helvetica,sans-Serif\" font-size=\"14.00\">gini = 0.25</text>\n",
       "<text text-anchor=\"start\" x=\"892.52\" y=\"-431.3\" font-family=\"Helvetica,sans-Serif\" font-size=\"14.00\">samples = 88</text>\n",
       "<text text-anchor=\"start\" x=\"886.52\" y=\"-416.3\" font-family=\"Helvetica,sans-Serif\" font-size=\"14.00\">value = [13, 75]</text>\n",
       "</g>\n",
       "<!-- 25&#45;&gt;26 -->\n",
       "<g id=\"edge26\" class=\"edge\">\n",
       "<title>25&#45;&gt;26</title>\n",
       "<path fill=\"none\" stroke=\"black\" d=\"M933.52,-504.88C933.52,-494.33 933.52,-482.6 933.52,-471.85\"/>\n",
       "<polygon fill=\"black\" stroke=\"black\" points=\"937.02,-471.52 933.52,-461.52 930.02,-471.52 937.02,-471.52\"/>\n",
       "</g>\n",
       "<!-- 27 -->\n",
       "<g id=\"node28\" class=\"node\">\n",
       "<title>27</title>\n",
       "<path fill=\"#3d9fe5\" stroke=\"black\" d=\"M1132.52,-469C1132.52,-469 1046.52,-469 1046.52,-469 1040.52,-469 1034.52,-463 1034.52,-457 1034.52,-457 1034.52,-413 1034.52,-413 1034.52,-407 1040.52,-401 1046.52,-401 1046.52,-401 1132.52,-401 1132.52,-401 1138.52,-401 1144.52,-407 1144.52,-413 1144.52,-413 1144.52,-457 1144.52,-457 1144.52,-463 1138.52,-469 1132.52,-469\"/>\n",
       "<text text-anchor=\"start\" x=\"1053.02\" y=\"-453.8\" font-family=\"Helvetica,sans-Serif\" font-size=\"14.00\">MAR ≤ 0.29</text>\n",
       "<text text-anchor=\"start\" x=\"1057.52\" y=\"-438.8\" font-family=\"Helvetica,sans-Serif\" font-size=\"14.00\">gini = 0.03</text>\n",
       "<text text-anchor=\"start\" x=\"1044.52\" y=\"-423.8\" font-family=\"Helvetica,sans-Serif\" font-size=\"14.00\">samples = 509</text>\n",
       "<text text-anchor=\"start\" x=\"1042.52\" y=\"-408.8\" font-family=\"Helvetica,sans-Serif\" font-size=\"14.00\">value = [9, 500]</text>\n",
       "</g>\n",
       "<!-- 25&#45;&gt;27 -->\n",
       "<g id=\"edge27\" class=\"edge\">\n",
       "<title>25&#45;&gt;27</title>\n",
       "<path fill=\"none\" stroke=\"black\" d=\"M984.17,-504.88C998.82,-495.3 1014.94,-484.76 1030.08,-474.86\"/>\n",
       "<polygon fill=\"black\" stroke=\"black\" points=\"1032.4,-477.53 1038.86,-469.12 1028.57,-471.67 1032.4,-477.53\"/>\n",
       "</g>\n",
       "<!-- 28 -->\n",
       "<g id=\"node29\" class=\"node\">\n",
       "<title>28</title>\n",
       "<path fill=\"#3a9ee5\" stroke=\"black\" d=\"M1128.52,-365C1128.52,-365 1042.52,-365 1042.52,-365 1036.52,-365 1030.52,-359 1030.52,-353 1030.52,-353 1030.52,-309 1030.52,-309 1030.52,-303 1036.52,-297 1042.52,-297 1042.52,-297 1128.52,-297 1128.52,-297 1134.52,-297 1140.52,-303 1140.52,-309 1140.52,-309 1140.52,-353 1140.52,-353 1140.52,-359 1134.52,-365 1128.52,-365\"/>\n",
       "<text text-anchor=\"start\" x=\"1043.52\" y=\"-349.8\" font-family=\"Helvetica,sans-Serif\" font-size=\"14.00\">Pitch ≤ &#45;14.55</text>\n",
       "<text text-anchor=\"start\" x=\"1053.52\" y=\"-334.8\" font-family=\"Helvetica,sans-Serif\" font-size=\"14.00\">gini = 0.01</text>\n",
       "<text text-anchor=\"start\" x=\"1040.52\" y=\"-319.8\" font-family=\"Helvetica,sans-Serif\" font-size=\"14.00\">samples = 431</text>\n",
       "<text text-anchor=\"start\" x=\"1038.52\" y=\"-304.8\" font-family=\"Helvetica,sans-Serif\" font-size=\"14.00\">value = [3, 428]</text>\n",
       "</g>\n",
       "<!-- 27&#45;&gt;28 -->\n",
       "<g id=\"edge28\" class=\"edge\">\n",
       "<title>27&#45;&gt;28</title>\n",
       "<path fill=\"none\" stroke=\"black\" d=\"M1088.22,-400.88C1087.9,-392.78 1087.56,-383.98 1087.22,-375.47\"/>\n",
       "<polygon fill=\"black\" stroke=\"black\" points=\"1090.71,-375.15 1086.82,-365.3 1083.72,-375.43 1090.71,-375.15\"/>\n",
       "</g>\n",
       "<!-- 31 -->\n",
       "<g id=\"node32\" class=\"node\">\n",
       "<title>31</title>\n",
       "<path fill=\"#49a5e7\" stroke=\"black\" d=\"M1275.52,-357.5C1275.52,-357.5 1197.52,-357.5 1197.52,-357.5 1191.52,-357.5 1185.52,-351.5 1185.52,-345.5 1185.52,-345.5 1185.52,-316.5 1185.52,-316.5 1185.52,-310.5 1191.52,-304.5 1197.52,-304.5 1197.52,-304.5 1275.52,-304.5 1275.52,-304.5 1281.52,-304.5 1287.52,-310.5 1287.52,-316.5 1287.52,-316.5 1287.52,-345.5 1287.52,-345.5 1287.52,-351.5 1281.52,-357.5 1275.52,-357.5\"/>\n",
       "<text text-anchor=\"start\" x=\"1204.52\" y=\"-342.3\" font-family=\"Helvetica,sans-Serif\" font-size=\"14.00\">gini = 0.14</text>\n",
       "<text text-anchor=\"start\" x=\"1195.52\" y=\"-327.3\" font-family=\"Helvetica,sans-Serif\" font-size=\"14.00\">samples = 78</text>\n",
       "<text text-anchor=\"start\" x=\"1193.52\" y=\"-312.3\" font-family=\"Helvetica,sans-Serif\" font-size=\"14.00\">value = [6, 72]</text>\n",
       "</g>\n",
       "<!-- 27&#45;&gt;31 -->\n",
       "<g id=\"edge31\" class=\"edge\">\n",
       "<title>27&#45;&gt;31</title>\n",
       "<path fill=\"none\" stroke=\"black\" d=\"M1137.25,-400.88C1154.68,-388.79 1174.33,-375.15 1191.52,-363.22\"/>\n",
       "<polygon fill=\"black\" stroke=\"black\" points=\"1193.52,-366.1 1199.74,-357.52 1189.53,-360.35 1193.52,-366.1\"/>\n",
       "</g>\n",
       "<!-- 29 -->\n",
       "<g id=\"node30\" class=\"node\">\n",
       "<title>29</title>\n",
       "<path fill=\"#46a3e7\" stroke=\"black\" d=\"M1122.52,-253.5C1122.52,-253.5 1044.52,-253.5 1044.52,-253.5 1038.52,-253.5 1032.52,-247.5 1032.52,-241.5 1032.52,-241.5 1032.52,-212.5 1032.52,-212.5 1032.52,-206.5 1038.52,-200.5 1044.52,-200.5 1044.52,-200.5 1122.52,-200.5 1122.52,-200.5 1128.52,-200.5 1134.52,-206.5 1134.52,-212.5 1134.52,-212.5 1134.52,-241.5 1134.52,-241.5 1134.52,-247.5 1128.52,-253.5 1122.52,-253.5\"/>\n",
       "<text text-anchor=\"start\" x=\"1051.52\" y=\"-238.3\" font-family=\"Helvetica,sans-Serif\" font-size=\"14.00\">gini = 0.11</text>\n",
       "<text text-anchor=\"start\" x=\"1042.52\" y=\"-223.3\" font-family=\"Helvetica,sans-Serif\" font-size=\"14.00\">samples = 50</text>\n",
       "<text text-anchor=\"start\" x=\"1040.52\" y=\"-208.3\" font-family=\"Helvetica,sans-Serif\" font-size=\"14.00\">value = [3, 47]</text>\n",
       "</g>\n",
       "<!-- 28&#45;&gt;29 -->\n",
       "<g id=\"edge29\" class=\"edge\">\n",
       "<title>28&#45;&gt;29</title>\n",
       "<path fill=\"none\" stroke=\"black\" d=\"M1084.87,-296.88C1084.66,-286.22 1084.43,-274.35 1084.22,-263.52\"/>\n",
       "<polygon fill=\"black\" stroke=\"black\" points=\"1087.71,-263.45 1084.02,-253.52 1080.72,-263.59 1087.71,-263.45\"/>\n",
       "</g>\n",
       "<!-- 30 -->\n",
       "<g id=\"node31\" class=\"node\">\n",
       "<title>30</title>\n",
       "<path fill=\"#399de5\" stroke=\"black\" d=\"M1277.52,-253.5C1277.52,-253.5 1191.52,-253.5 1191.52,-253.5 1185.52,-253.5 1179.52,-247.5 1179.52,-241.5 1179.52,-241.5 1179.52,-212.5 1179.52,-212.5 1179.52,-206.5 1185.52,-200.5 1191.52,-200.5 1191.52,-200.5 1277.52,-200.5 1277.52,-200.5 1283.52,-200.5 1289.52,-206.5 1289.52,-212.5 1289.52,-212.5 1289.52,-241.5 1289.52,-241.5 1289.52,-247.5 1283.52,-253.5 1277.52,-253.5\"/>\n",
       "<text text-anchor=\"start\" x=\"1206.52\" y=\"-238.3\" font-family=\"Helvetica,sans-Serif\" font-size=\"14.00\">gini = 0.0</text>\n",
       "<text text-anchor=\"start\" x=\"1189.52\" y=\"-223.3\" font-family=\"Helvetica,sans-Serif\" font-size=\"14.00\">samples = 381</text>\n",
       "<text text-anchor=\"start\" x=\"1187.52\" y=\"-208.3\" font-family=\"Helvetica,sans-Serif\" font-size=\"14.00\">value = [0, 381]</text>\n",
       "</g>\n",
       "<!-- 28&#45;&gt;30 -->\n",
       "<g id=\"edge30\" class=\"edge\">\n",
       "<title>28&#45;&gt;30</title>\n",
       "<path fill=\"none\" stroke=\"black\" d=\"M1133.89,-296.88C1151.57,-284.79 1171.48,-271.15 1188.91,-259.22\"/>\n",
       "<polygon fill=\"black\" stroke=\"black\" points=\"1190.97,-262.06 1197.24,-253.52 1187.01,-256.28 1190.97,-262.06\"/>\n",
       "</g>\n",
       "</g>\n",
       "</svg>\n"
      ],
      "text/plain": [
       "<graphviz.sources.Source at 0x79db26d8a110>"
      ]
     },
     "execution_count": 16,
     "metadata": {},
     "output_type": "execute_result"
    }
   ],
   "source": [
    "model = DecisionTreeClassifier(min_samples_leaf=50)\n",
    "model.fit(train_xs, train_y)\n",
    "draw_tree(model, train_xs, size=10)"
   ]
  },
  {
   "cell_type": "code",
   "execution_count": 17,
   "id": "e70ac65f",
   "metadata": {
    "execution": {
     "iopub.execute_input": "2025-01-05T20:45:19.629675Z",
     "iopub.status.busy": "2025-01-05T20:45:19.629308Z",
     "iopub.status.idle": "2025-01-05T20:45:19.637736Z",
     "shell.execute_reply": "2025-01-05T20:45:19.636740Z"
    },
    "papermill": {
     "duration": 0.021594,
     "end_time": "2025-01-05T20:45:19.639185",
     "exception": false,
     "start_time": "2025-01-05T20:45:19.617591",
     "status": "completed"
    },
    "tags": []
   },
   "outputs": [
    {
     "name": "stdout",
     "output_type": "stream",
     "text": [
      "Accuracy: 0.8898876404494382\n"
     ]
    }
   ],
   "source": [
    "accuracy = accuracy_score(val_y, model.predict(val_xs))\n",
    "print(\"Accuracy:\", accuracy)"
   ]
  },
  {
   "cell_type": "code",
   "execution_count": 18,
   "id": "de6b6aa9",
   "metadata": {
    "execution": {
     "iopub.execute_input": "2025-01-05T20:45:19.662252Z",
     "iopub.status.busy": "2025-01-05T20:45:19.661929Z",
     "iopub.status.idle": "2025-01-05T20:45:19.681592Z",
     "shell.execute_reply": "2025-01-05T20:45:19.680464Z"
    },
    "papermill": {
     "duration": 0.032749,
     "end_time": "2025-01-05T20:45:19.683093",
     "exception": false,
     "start_time": "2025-01-05T20:45:19.650344",
     "status": "completed"
    },
    "tags": []
   },
   "outputs": [
    {
     "name": "stdout",
     "output_type": "stream",
     "text": [
      "Classification Report:\n",
      "               precision    recall  f1-score   support\n",
      "\n",
      "      Drowsy       0.87      0.93      0.90       235\n",
      "  Not_drowsy       0.91      0.85      0.88       210\n",
      "\n",
      "    accuracy                           0.89       445\n",
      "   macro avg       0.89      0.89      0.89       445\n",
      "weighted avg       0.89      0.89      0.89       445\n",
      "\n"
     ]
    }
   ],
   "source": [
    "report = classification_report(val_y, model.predict(val_xs))\n",
    "print(\"Classification Report:\\n\", report)"
   ]
  },
  {
   "cell_type": "code",
   "execution_count": 19,
   "id": "0fa1b47f",
   "metadata": {
    "execution": {
     "iopub.execute_input": "2025-01-05T20:45:19.706063Z",
     "iopub.status.busy": "2025-01-05T20:45:19.705739Z",
     "iopub.status.idle": "2025-01-05T20:45:19.715777Z",
     "shell.execute_reply": "2025-01-05T20:45:19.714755Z"
    },
    "papermill": {
     "duration": 0.02309,
     "end_time": "2025-01-05T20:45:19.717233",
     "exception": false,
     "start_time": "2025-01-05T20:45:19.694143",
     "status": "completed"
    },
    "tags": []
   },
   "outputs": [
    {
     "name": "stdout",
     "output_type": "stream",
     "text": [
      "Confusion Matrix:\n",
      " [[218  17]\n",
      " [ 32 178]]\n"
     ]
    }
   ],
   "source": [
    "cm = confusion_matrix(val_y, model.predict(val_xs))\n",
    "print(\"Confusion Matrix:\\n\", cm)"
   ]
  },
  {
   "cell_type": "markdown",
   "id": "f45871f8",
   "metadata": {
    "papermill": {
     "duration": 0.010951,
     "end_time": "2025-01-05T20:45:19.739200",
     "exception": false,
     "start_time": "2025-01-05T20:45:19.728249",
     "status": "completed"
    },
    "tags": []
   },
   "source": [
    "# Tworzenie losowych lasów decyzyjnych - Pierwsza iteracja"
   ]
  },
  {
   "cell_type": "code",
   "execution_count": 20,
   "id": "ae40a05c",
   "metadata": {
    "execution": {
     "iopub.execute_input": "2025-01-05T20:45:19.762046Z",
     "iopub.status.busy": "2025-01-05T20:45:19.761699Z",
     "iopub.status.idle": "2025-01-05T20:45:19.766484Z",
     "shell.execute_reply": "2025-01-05T20:45:19.765464Z"
    },
    "papermill": {
     "duration": 0.018146,
     "end_time": "2025-01-05T20:45:19.768107",
     "exception": false,
     "start_time": "2025-01-05T20:45:19.749961",
     "status": "completed"
    },
    "tags": []
   },
   "outputs": [],
   "source": [
    "def get_tree(proportion = 0.6):\n",
    "    train_dataset_len = len(train_y)\n",
    "    indexes = random.choice(train_dataset_len, int(train_dataset_len*proportion))\n",
    "    random_tree = DecisionTreeClassifier(min_samples_leaf=6)\n",
    "    random_tree.fit(train_xs.iloc[indexes], train_y.iloc[indexes])\n",
    "    return random_tree"
   ]
  },
  {
   "cell_type": "code",
   "execution_count": 21,
   "id": "96eab8f3",
   "metadata": {
    "execution": {
     "iopub.execute_input": "2025-01-05T20:45:19.791840Z",
     "iopub.status.busy": "2025-01-05T20:45:19.791509Z",
     "iopub.status.idle": "2025-01-05T20:45:20.411698Z",
     "shell.execute_reply": "2025-01-05T20:45:20.410811Z"
    },
    "papermill": {
     "duration": 0.634408,
     "end_time": "2025-01-05T20:45:20.413502",
     "exception": false,
     "start_time": "2025-01-05T20:45:19.779094",
     "status": "completed"
    },
    "tags": []
   },
   "outputs": [],
   "source": [
    "forest = [get_tree() for i in range(100)]"
   ]
  },
  {
   "cell_type": "code",
   "execution_count": 22,
   "id": "6b06bbf6",
   "metadata": {
    "execution": {
     "iopub.execute_input": "2025-01-05T20:45:20.438129Z",
     "iopub.status.busy": "2025-01-05T20:45:20.437781Z",
     "iopub.status.idle": "2025-01-05T20:45:20.442554Z",
     "shell.execute_reply": "2025-01-05T20:45:20.441541Z"
    },
    "papermill": {
     "duration": 0.018298,
     "end_time": "2025-01-05T20:45:20.444056",
     "exception": false,
     "start_time": "2025-01-05T20:45:20.425758",
     "status": "completed"
    },
    "tags": []
   },
   "outputs": [],
   "source": [
    "def find_most_common(array):\n",
    "    count = 0\n",
    "    for prediction in array:\n",
    "        if prediction == \"Drowsy\":\n",
    "            count += 1\n",
    "    if count > len(array)/2:\n",
    "        return \"Drowsy\"\n",
    "    else:\n",
    "        return \"Not_drowsy\""
   ]
  },
  {
   "cell_type": "code",
   "execution_count": 23,
   "id": "0750602e",
   "metadata": {
    "execution": {
     "iopub.execute_input": "2025-01-05T20:45:20.467175Z",
     "iopub.status.busy": "2025-01-05T20:45:20.466849Z",
     "iopub.status.idle": "2025-01-05T20:45:20.581968Z",
     "shell.execute_reply": "2025-01-05T20:45:20.580970Z"
    },
    "papermill": {
     "duration": 0.128845,
     "end_time": "2025-01-05T20:45:20.583951",
     "exception": false,
     "start_time": "2025-01-05T20:45:20.455106",
     "status": "completed"
    },
    "tags": []
   },
   "outputs": [],
   "source": [
    "all_forest_classifications = [tree.predict(val_xs) for tree in forest]\n",
    "all_forest_classifications = np.stack(all_forest_classifications)\n",
    "all_forest_classifications = np.transpose(all_forest_classifications)\n",
    "average_classification = [find_most_common(forest_classification) for forest_classification in all_forest_classifications]\n",
    "average_classification = np.array(average_classification)"
   ]
  },
  {
   "cell_type": "code",
   "execution_count": 24,
   "id": "200648ba",
   "metadata": {
    "execution": {
     "iopub.execute_input": "2025-01-05T20:45:20.607039Z",
     "iopub.status.busy": "2025-01-05T20:45:20.606684Z",
     "iopub.status.idle": "2025-01-05T20:45:20.613874Z",
     "shell.execute_reply": "2025-01-05T20:45:20.612727Z"
    },
    "papermill": {
     "duration": 0.020702,
     "end_time": "2025-01-05T20:45:20.615583",
     "exception": false,
     "start_time": "2025-01-05T20:45:20.594881",
     "status": "completed"
    },
    "tags": []
   },
   "outputs": [
    {
     "name": "stdout",
     "output_type": "stream",
     "text": [
      "Accuracy: 0.9168539325842696\n"
     ]
    }
   ],
   "source": [
    "accuracy = accuracy_score(val_y, average_classification)\n",
    "print(\"Accuracy:\", accuracy)"
   ]
  },
  {
   "cell_type": "code",
   "execution_count": 25,
   "id": "b407d2e2",
   "metadata": {
    "execution": {
     "iopub.execute_input": "2025-01-05T20:45:20.639598Z",
     "iopub.status.busy": "2025-01-05T20:45:20.639210Z",
     "iopub.status.idle": "2025-01-05T20:45:20.656609Z",
     "shell.execute_reply": "2025-01-05T20:45:20.655459Z"
    },
    "papermill": {
     "duration": 0.030833,
     "end_time": "2025-01-05T20:45:20.658115",
     "exception": false,
     "start_time": "2025-01-05T20:45:20.627282",
     "status": "completed"
    },
    "tags": []
   },
   "outputs": [
    {
     "name": "stdout",
     "output_type": "stream",
     "text": [
      "Classification Report:\n",
      "               precision    recall  f1-score   support\n",
      "\n",
      "      Drowsy       0.92      0.93      0.92       235\n",
      "  Not_drowsy       0.92      0.90      0.91       210\n",
      "\n",
      "    accuracy                           0.92       445\n",
      "   macro avg       0.92      0.92      0.92       445\n",
      "weighted avg       0.92      0.92      0.92       445\n",
      "\n"
     ]
    }
   ],
   "source": [
    "report = classification_report(val_y, average_classification)\n",
    "print(\"Classification Report:\\n\", report)"
   ]
  },
  {
   "cell_type": "code",
   "execution_count": 26,
   "id": "bdfdbf21",
   "metadata": {
    "execution": {
     "iopub.execute_input": "2025-01-05T20:45:20.682913Z",
     "iopub.status.busy": "2025-01-05T20:45:20.682543Z",
     "iopub.status.idle": "2025-01-05T20:45:20.690925Z",
     "shell.execute_reply": "2025-01-05T20:45:20.690082Z"
    },
    "papermill": {
     "duration": 0.022938,
     "end_time": "2025-01-05T20:45:20.692428",
     "exception": false,
     "start_time": "2025-01-05T20:45:20.669490",
     "status": "completed"
    },
    "tags": []
   },
   "outputs": [
    {
     "name": "stdout",
     "output_type": "stream",
     "text": [
      "Confusion Matrix:\n",
      " [[218  17]\n",
      " [ 20 190]]\n"
     ]
    }
   ],
   "source": [
    "cm = confusion_matrix(val_y, average_classification)\n",
    "print(\"Confusion Matrix:\\n\", cm)"
   ]
  },
  {
   "cell_type": "markdown",
   "id": "0d5b9e3c",
   "metadata": {
    "papermill": {
     "duration": 0.010728,
     "end_time": "2025-01-05T20:45:20.714474",
     "exception": false,
     "start_time": "2025-01-05T20:45:20.703746",
     "status": "completed"
    },
    "tags": []
   },
   "source": [
    "# Tworzenie losowych lasów decyzyjnych - Druga iteracja"
   ]
  },
  {
   "cell_type": "code",
   "execution_count": 27,
   "id": "ca74056f",
   "metadata": {
    "execution": {
     "iopub.execute_input": "2025-01-05T20:45:20.738118Z",
     "iopub.status.busy": "2025-01-05T20:45:20.737776Z",
     "iopub.status.idle": "2025-01-05T20:45:21.128901Z",
     "shell.execute_reply": "2025-01-05T20:45:21.127606Z"
    },
    "papermill": {
     "duration": 0.40531,
     "end_time": "2025-01-05T20:45:21.130870",
     "exception": false,
     "start_time": "2025-01-05T20:45:20.725560",
     "status": "completed"
    },
    "tags": []
   },
   "outputs": [],
   "source": [
    "from sklearn.ensemble import RandomForestClassifier\n",
    "rf = RandomForestClassifier(100, min_samples_leaf=25)\n",
    "rf.fit(train_xs, train_y);"
   ]
  },
  {
   "cell_type": "code",
   "execution_count": 28,
   "id": "7b73b1a8",
   "metadata": {
    "execution": {
     "iopub.execute_input": "2025-01-05T20:45:21.155189Z",
     "iopub.status.busy": "2025-01-05T20:45:21.154647Z",
     "iopub.status.idle": "2025-01-05T20:45:21.175730Z",
     "shell.execute_reply": "2025-01-05T20:45:21.174473Z"
    },
    "papermill": {
     "duration": 0.034951,
     "end_time": "2025-01-05T20:45:21.177394",
     "exception": false,
     "start_time": "2025-01-05T20:45:21.142443",
     "status": "completed"
    },
    "tags": []
   },
   "outputs": [
    {
     "name": "stdout",
     "output_type": "stream",
     "text": [
      "Accuracy: 0.9146067415730337\n"
     ]
    }
   ],
   "source": [
    "accuracy = accuracy_score(val_y, rf.predict(val_xs))\n",
    "print(\"Accuracy:\", accuracy)"
   ]
  },
  {
   "cell_type": "code",
   "execution_count": 29,
   "id": "36bafa2a",
   "metadata": {
    "execution": {
     "iopub.execute_input": "2025-01-05T20:45:21.201006Z",
     "iopub.status.busy": "2025-01-05T20:45:21.200674Z",
     "iopub.status.idle": "2025-01-05T20:45:21.231237Z",
     "shell.execute_reply": "2025-01-05T20:45:21.230050Z"
    },
    "papermill": {
     "duration": 0.044148,
     "end_time": "2025-01-05T20:45:21.232948",
     "exception": false,
     "start_time": "2025-01-05T20:45:21.188800",
     "status": "completed"
    },
    "tags": []
   },
   "outputs": [
    {
     "name": "stdout",
     "output_type": "stream",
     "text": [
      "Classification Report:\n",
      "               precision    recall  f1-score   support\n",
      "\n",
      "      Drowsy       0.91      0.94      0.92       235\n",
      "  Not_drowsy       0.93      0.89      0.91       210\n",
      "\n",
      "    accuracy                           0.91       445\n",
      "   macro avg       0.92      0.91      0.91       445\n",
      "weighted avg       0.91      0.91      0.91       445\n",
      "\n"
     ]
    }
   ],
   "source": [
    "report = classification_report(val_y, rf.predict(val_xs))\n",
    "print(\"Classification Report:\\n\", report)"
   ]
  },
  {
   "cell_type": "code",
   "execution_count": 30,
   "id": "e00f5c4f",
   "metadata": {
    "execution": {
     "iopub.execute_input": "2025-01-05T20:45:21.256760Z",
     "iopub.status.busy": "2025-01-05T20:45:21.256418Z",
     "iopub.status.idle": "2025-01-05T20:45:21.276985Z",
     "shell.execute_reply": "2025-01-05T20:45:21.276009Z"
    },
    "papermill": {
     "duration": 0.034324,
     "end_time": "2025-01-05T20:45:21.278642",
     "exception": false,
     "start_time": "2025-01-05T20:45:21.244318",
     "status": "completed"
    },
    "tags": []
   },
   "outputs": [
    {
     "name": "stdout",
     "output_type": "stream",
     "text": [
      "Confusion Matrix:\n",
      " [[220  15]\n",
      " [ 23 187]]\n"
     ]
    }
   ],
   "source": [
    "cm = confusion_matrix(val_y, rf.predict(val_xs))\n",
    "print(\"Confusion Matrix:\\n\", cm)"
   ]
  },
  {
   "cell_type": "code",
   "execution_count": 31,
   "id": "77add7ea",
   "metadata": {
    "execution": {
     "iopub.execute_input": "2025-01-05T20:45:21.302577Z",
     "iopub.status.busy": "2025-01-05T20:45:21.302204Z",
     "iopub.status.idle": "2025-01-05T20:45:21.614950Z",
     "shell.execute_reply": "2025-01-05T20:45:21.613901Z"
    },
    "papermill": {
     "duration": 0.326615,
     "end_time": "2025-01-05T20:45:21.616755",
     "exception": false,
     "start_time": "2025-01-05T20:45:21.290140",
     "status": "completed"
    },
    "tags": []
   },
   "outputs": [
    {
     "data": {
      "image/png": "[encoded data removed]",
      "text/plain": [
       "<Figure size 640x480 with 1 Axes>"
      ]
     },
     "metadata": {},
     "output_type": "display_data"
    }
   ],
   "source": [
    "importance = pd.DataFrame(dict(Parametry=train_xs.columns, Znaczenie=rf.feature_importances_)).sort_values(\"Znaczenie\", ascending = False)\n",
    "importance.plot('Parametry', 'Znaczenie', 'barh');"
   ]
  },
  {
   "cell_type": "code",
   "execution_count": 32,
   "id": "f4cd78b9",
   "metadata": {
    "execution": {
     "iopub.execute_input": "2025-01-05T20:45:21.641704Z",
     "iopub.status.busy": "2025-01-05T20:45:21.641311Z",
     "iopub.status.idle": "2025-01-05T20:45:24.338466Z",
     "shell.execute_reply": "2025-01-05T20:45:24.337398Z"
    },
    "papermill": {
     "duration": 2.71118,
     "end_time": "2025-01-05T20:45:24.340041",
     "exception": false,
     "start_time": "2025-01-05T20:45:21.628861",
     "status": "completed"
    },
    "tags": []
   },
   "outputs": [
    {
     "data": {
      "image/png": "[encoded data removed]",
      "text/plain": [
       "<Figure size 1200x400 with 3 Axes>"
      ]
     },
     "metadata": {},
     "output_type": "display_data"
    }
   ],
   "source": [
    "from sklearn.inspection import PartialDependenceDisplay\n",
    "import matplotlib.pyplot as plt\n",
    "\n",
    "fig, ax = plt.subplots(figsize=(12, 4))\n",
    "PartialDependenceDisplay.from_estimator(\n",
    "    rf,            \n",
    "    val_xs,        \n",
    "    ['EAR', 'MAR'],\n",
    "    ax=ax          \n",
    ")\n",
    "plt.show()"
   ]
  },
  {
   "cell_type": "code",
   "execution_count": 33,
   "id": "93aed281",
   "metadata": {
    "execution": {
     "iopub.execute_input": "2025-01-05T20:45:24.365581Z",
     "iopub.status.busy": "2025-01-05T20:45:24.365182Z",
     "iopub.status.idle": "2025-01-05T20:45:27.127409Z",
     "shell.execute_reply": "2025-01-05T20:45:27.126451Z"
    },
    "papermill": {
     "duration": 2.776562,
     "end_time": "2025-01-05T20:45:27.128961",
     "exception": false,
     "start_time": "2025-01-05T20:45:24.352399",
     "status": "completed"
    },
    "tags": []
   },
   "outputs": [
    {
     "data": {
      "image/png": "[encoded data removed]",
      "text/plain": [
       "<Figure size 1200x400 with 3 Axes>"
      ]
     },
     "metadata": {},
     "output_type": "display_data"
    }
   ],
   "source": [
    "fig2, ax2 = plt.subplots(figsize=(12, 4))\n",
    "PartialDependenceDisplay.from_estimator(\n",
    "    rf,            \n",
    "    val_xs,        \n",
    "    ['Pitch', 'Roll'],\n",
    "    ax=ax2          \n",
    ")\n",
    "\n",
    "# Display the plot\n",
    "plt.show()\n"
   ]
  },
  {
   "cell_type": "markdown",
   "id": "1ce14867",
   "metadata": {
    "papermill": {
     "duration": 0.012595,
     "end_time": "2025-01-05T20:45:27.155043",
     "exception": false,
     "start_time": "2025-01-05T20:45:27.142448",
     "status": "completed"
    },
    "tags": []
   },
   "source": [
    "# Tworzenie konwolucyjnej sieci neuronowej - Pierwsza iteracja"
   ]
  },
  {
   "cell_type": "code",
   "execution_count": 34,
   "id": "faab82e9",
   "metadata": {
    "execution": {
     "iopub.execute_input": "2025-01-05T20:45:27.182201Z",
     "iopub.status.busy": "2025-01-05T20:45:27.181861Z",
     "iopub.status.idle": "2025-01-05T20:45:31.622911Z",
     "shell.execute_reply": "2025-01-05T20:45:31.622004Z"
    },
    "papermill": {
     "duration": 4.45656,
     "end_time": "2025-01-05T20:45:31.624720",
     "exception": false,
     "start_time": "2025-01-05T20:45:27.168160",
     "status": "completed"
    },
    "tags": []
   },
   "outputs": [],
   "source": [
    "from fastai.tabular.all import *\n",
    "train_xs, train_y = xs_y(train_df)\n",
    "val_xs, val_y = xs_y(val_df)"
   ]
  },
  {
   "cell_type": "code",
   "execution_count": 35,
   "id": "622e7538",
   "metadata": {
    "execution": {
     "iopub.execute_input": "2025-01-05T20:45:31.652461Z",
     "iopub.status.busy": "2025-01-05T20:45:31.651885Z",
     "iopub.status.idle": "2025-01-05T20:45:31.742587Z",
     "shell.execute_reply": "2025-01-05T20:45:31.741465Z"
    },
    "papermill": {
     "duration": 0.106484,
     "end_time": "2025-01-05T20:45:31.744488",
     "exception": false,
     "start_time": "2025-01-05T20:45:31.638004",
     "status": "completed"
    },
    "tags": []
   },
   "outputs": [],
   "source": [
    "dls = TabularDataLoaders.from_df(train_df, y_names=\"Is_drowsy\", y_block = CategoryBlock,\n",
    "    cont_names = ['EAR', 'MAR', 'Pitch', 'Roll'],\n",
    "    procs = [Categorify, FillMissing, Normalize])\n",
    "\n",
    "splits = RandomSplitter(valid_pct=0.2)(range_of(df))"
   ]
  },
  {
   "cell_type": "code",
   "execution_count": 36,
   "id": "e94293f6",
   "metadata": {
    "execution": {
     "iopub.execute_input": "2025-01-05T20:45:31.772566Z",
     "iopub.status.busy": "2025-01-05T20:45:31.772172Z",
     "iopub.status.idle": "2025-01-05T20:45:31.799676Z",
     "shell.execute_reply": "2025-01-05T20:45:31.798583Z"
    },
    "papermill": {
     "duration": 0.043302,
     "end_time": "2025-01-05T20:45:31.801582",
     "exception": false,
     "start_time": "2025-01-05T20:45:31.758280",
     "status": "completed"
    },
    "tags": []
   },
   "outputs": [],
   "source": [
    "learn = tabular_learner(dls, metrics=accuracy)"
   ]
  },
  {
   "cell_type": "code",
   "execution_count": 37,
   "id": "424e85b2",
   "metadata": {
    "execution": {
     "iopub.execute_input": "2025-01-05T20:45:31.829261Z",
     "iopub.status.busy": "2025-01-05T20:45:31.828931Z",
     "iopub.status.idle": "2025-01-05T20:45:33.422107Z",
     "shell.execute_reply": "2025-01-05T20:45:33.420962Z"
    },
    "papermill": {
     "duration": 1.608796,
     "end_time": "2025-01-05T20:45:33.423864",
     "exception": false,
     "start_time": "2025-01-05T20:45:31.815068",
     "status": "completed"
    },
    "tags": []
   },
   "outputs": [
    {
     "data": {
      "text/html": [
       "\n",
       "<style>\n",
       "    /* Turns off some styling */\n",
       "    progress {\n",
       "        /* gets rid of default border in Firefox and Opera. */\n",
       "        border: none;\n",
       "        /* Needs to be in here for Safari polyfill so background images work as expected. */\n",
       "        background-size: auto;\n",
       "    }\n",
       "    progress:not([value]), progress:not([value])::-webkit-progress-bar {\n",
       "        background: repeating-linear-gradient(45deg, #7e7e7e, #7e7e7e 10px, #5c5c5c 10px, #5c5c5c 20px);\n",
       "    }\n",
       "    .progress-bar-interrupted, .progress-bar-interrupted::-webkit-progress-bar {\n",
       "        background: #F44336;\n",
       "    }\n",
       "</style>\n"
      ],
      "text/plain": [
       "<IPython.core.display.HTML object>"
      ]
     },
     "metadata": {},
     "output_type": "display_data"
    },
    {
     "data": {
      "text/html": [],
      "text/plain": [
       "<IPython.core.display.HTML object>"
      ]
     },
     "metadata": {},
     "output_type": "display_data"
    },
    {
     "name": "stderr",
     "output_type": "stream",
     "text": [
      "/usr/local/lib/python3.10/dist-packages/fastai/learner.py:53: FutureWarning: You are using `torch.load` with `weights_only=False` (the current default value), which uses the default pickle module implicitly. It is possible to construct malicious pickle data which will execute arbitrary code during unpickling (See https://github.com/pytorch/pytorch/blob/main/SECURITY.md#untrusted-models for more details). In a future release, the default value for `weights_only` will be flipped to `True`. This limits the functions that could be executed during unpickling. Arbitrary objects will no longer be allowed to be loaded via this mode unless they are explicitly allowlisted by the user via `torch.serialization.add_safe_globals`. We recommend you start setting `weights_only=True` for any use case where you don't have full control of the loaded file. Please open an issue on GitHub for any issues related to this experimental feature.\n",
      "  state = torch.load(file, map_location=device, **torch_load_kwargs)\n"
     ]
    },
    {
     "data": {
      "text/plain": [
       "SuggestedLRs(valley=0.001737800776027143)"
      ]
     },
     "execution_count": 37,
     "metadata": {},
     "output_type": "execute_result"
    },
    {
     "data": {
      "image/png": "[encoded data removed]",
      "text/plain": [
       "<Figure size 640x480 with 1 Axes>"
      ]
     },
     "metadata": {},
     "output_type": "display_data"
    }
   ],
   "source": [
    "learn.lr_find()"
   ]
  },
  {
   "cell_type": "code",
   "execution_count": 38,
   "id": "fcc388a6",
   "metadata": {
    "execution": {
     "iopub.execute_input": "2025-01-05T20:45:33.453285Z",
     "iopub.status.busy": "2025-01-05T20:45:33.452955Z",
     "iopub.status.idle": "2025-01-05T20:45:34.388637Z",
     "shell.execute_reply": "2025-01-05T20:45:34.387811Z"
    },
    "papermill": {
     "duration": 0.951952,
     "end_time": "2025-01-05T20:45:34.390226",
     "exception": false,
     "start_time": "2025-01-05T20:45:33.438274",
     "status": "completed"
    },
    "tags": []
   },
   "outputs": [
    {
     "data": {
      "text/html": [
       "\n",
       "<style>\n",
       "    /* Turns off some styling */\n",
       "    progress {\n",
       "        /* gets rid of default border in Firefox and Opera. */\n",
       "        border: none;\n",
       "        /* Needs to be in here for Safari polyfill so background images work as expected. */\n",
       "        background-size: auto;\n",
       "    }\n",
       "    progress:not([value]), progress:not([value])::-webkit-progress-bar {\n",
       "        background: repeating-linear-gradient(45deg, #7e7e7e, #7e7e7e 10px, #5c5c5c 10px, #5c5c5c 20px);\n",
       "    }\n",
       "    .progress-bar-interrupted, .progress-bar-interrupted::-webkit-progress-bar {\n",
       "        background: #F44336;\n",
       "    }\n",
       "</style>\n"
      ],
      "text/plain": [
       "<IPython.core.display.HTML object>"
      ]
     },
     "metadata": {},
     "output_type": "display_data"
    },
    {
     "data": {
      "text/html": [
       "<table border=\"1\" class=\"dataframe\">\n",
       "  <thead>\n",
       "    <tr style=\"text-align: left;\">\n",
       "      <th>epoch</th>\n",
       "      <th>train_loss</th>\n",
       "      <th>valid_loss</th>\n",
       "      <th>accuracy</th>\n",
       "      <th>time</th>\n",
       "    </tr>\n",
       "  </thead>\n",
       "  <tbody>\n",
       "    <tr>\n",
       "      <td>0</td>\n",
       "      <td>0.561715</td>\n",
       "      <td>0.340538</td>\n",
       "      <td>0.890141</td>\n",
       "      <td>00:00</td>\n",
       "    </tr>\n",
       "    <tr>\n",
       "      <td>1</td>\n",
       "      <td>0.379021</td>\n",
       "      <td>0.250471</td>\n",
       "      <td>0.898592</td>\n",
       "      <td>00:00</td>\n",
       "    </tr>\n",
       "    <tr>\n",
       "      <td>2</td>\n",
       "      <td>0.328034</td>\n",
       "      <td>0.233757</td>\n",
       "      <td>0.907042</td>\n",
       "      <td>00:00</td>\n",
       "    </tr>\n",
       "    <tr>\n",
       "      <td>3</td>\n",
       "      <td>0.289114</td>\n",
       "      <td>0.236899</td>\n",
       "      <td>0.901408</td>\n",
       "      <td>00:00</td>\n",
       "    </tr>\n",
       "  </tbody>\n",
       "</table>"
      ],
      "text/plain": [
       "<IPython.core.display.HTML object>"
      ]
     },
     "metadata": {},
     "output_type": "display_data"
    }
   ],
   "source": [
    "learn.fit_one_cycle(4)"
   ]
  },
  {
   "cell_type": "code",
   "execution_count": 39,
   "id": "2bff5ced",
   "metadata": {
    "execution": {
     "iopub.execute_input": "2025-01-05T20:45:34.420499Z",
     "iopub.status.busy": "2025-01-05T20:45:34.420081Z",
     "iopub.status.idle": "2025-01-05T20:45:34.454827Z",
     "shell.execute_reply": "2025-01-05T20:45:34.453823Z"
    },
    "papermill": {
     "duration": 0.051722,
     "end_time": "2025-01-05T20:45:34.456490",
     "exception": false,
     "start_time": "2025-01-05T20:45:34.404768",
     "status": "completed"
    },
    "tags": []
   },
   "outputs": [
    {
     "data": {
      "text/html": [
       "\n",
       "<style>\n",
       "    /* Turns off some styling */\n",
       "    progress {\n",
       "        /* gets rid of default border in Firefox and Opera. */\n",
       "        border: none;\n",
       "        /* Needs to be in here for Safari polyfill so background images work as expected. */\n",
       "        background-size: auto;\n",
       "    }\n",
       "    progress:not([value]), progress:not([value])::-webkit-progress-bar {\n",
       "        background: repeating-linear-gradient(45deg, #7e7e7e, #7e7e7e 10px, #5c5c5c 10px, #5c5c5c 20px);\n",
       "    }\n",
       "    .progress-bar-interrupted, .progress-bar-interrupted::-webkit-progress-bar {\n",
       "        background: #F44336;\n",
       "    }\n",
       "</style>\n"
      ],
      "text/plain": [
       "<IPython.core.display.HTML object>"
      ]
     },
     "metadata": {},
     "output_type": "display_data"
    },
    {
     "data": {
      "text/html": [],
      "text/plain": [
       "<IPython.core.display.HTML object>"
      ]
     },
     "metadata": {},
     "output_type": "display_data"
    },
    {
     "data": {
      "text/html": [
       "<table border=\"1\" class=\"dataframe\">\n",
       "  <thead>\n",
       "    <tr style=\"text-align: right;\">\n",
       "      <th></th>\n",
       "      <th>EAR</th>\n",
       "      <th>MAR</th>\n",
       "      <th>Pitch</th>\n",
       "      <th>Roll</th>\n",
       "      <th>Is_drowsy</th>\n",
       "      <th>Is_drowsy_pred</th>\n",
       "    </tr>\n",
       "  </thead>\n",
       "  <tbody>\n",
       "    <tr>\n",
       "      <th>0</th>\n",
       "      <td>0.613784</td>\n",
       "      <td>1.700675</td>\n",
       "      <td>0.521407</td>\n",
       "      <td>-1.596070</td>\n",
       "      <td>0.0</td>\n",
       "      <td>0.0</td>\n",
       "    </tr>\n",
       "    <tr>\n",
       "      <th>1</th>\n",
       "      <td>1.236519</td>\n",
       "      <td>-1.109675</td>\n",
       "      <td>0.758103</td>\n",
       "      <td>0.196921</td>\n",
       "      <td>1.0</td>\n",
       "      <td>1.0</td>\n",
       "    </tr>\n",
       "    <tr>\n",
       "      <th>2</th>\n",
       "      <td>0.959442</td>\n",
       "      <td>0.100378</td>\n",
       "      <td>0.713462</td>\n",
       "      <td>0.472034</td>\n",
       "      <td>1.0</td>\n",
       "      <td>1.0</td>\n",
       "    </tr>\n",
       "    <tr>\n",
       "      <th>3</th>\n",
       "      <td>0.899464</td>\n",
       "      <td>0.421918</td>\n",
       "      <td>0.721829</td>\n",
       "      <td>0.572917</td>\n",
       "      <td>1.0</td>\n",
       "      <td>1.0</td>\n",
       "    </tr>\n",
       "    <tr>\n",
       "      <th>4</th>\n",
       "      <td>0.661566</td>\n",
       "      <td>1.621505</td>\n",
       "      <td>0.597708</td>\n",
       "      <td>-1.907819</td>\n",
       "      <td>0.0</td>\n",
       "      <td>0.0</td>\n",
       "    </tr>\n",
       "    <tr>\n",
       "      <th>5</th>\n",
       "      <td>-0.023833</td>\n",
       "      <td>0.453158</td>\n",
       "      <td>-1.260558</td>\n",
       "      <td>0.544290</td>\n",
       "      <td>1.0</td>\n",
       "      <td>0.0</td>\n",
       "    </tr>\n",
       "    <tr>\n",
       "      <th>6</th>\n",
       "      <td>-0.390762</td>\n",
       "      <td>0.195421</td>\n",
       "      <td>0.257745</td>\n",
       "      <td>-2.300053</td>\n",
       "      <td>0.0</td>\n",
       "      <td>0.0</td>\n",
       "    </tr>\n",
       "    <tr>\n",
       "      <th>7</th>\n",
       "      <td>-1.292538</td>\n",
       "      <td>0.085203</td>\n",
       "      <td>0.400071</td>\n",
       "      <td>1.181972</td>\n",
       "      <td>0.0</td>\n",
       "      <td>0.0</td>\n",
       "    </tr>\n",
       "    <tr>\n",
       "      <th>8</th>\n",
       "      <td>-0.164577</td>\n",
       "      <td>-1.282821</td>\n",
       "      <td>-3.848285</td>\n",
       "      <td>-0.280954</td>\n",
       "      <td>0.0</td>\n",
       "      <td>0.0</td>\n",
       "    </tr>\n",
       "  </tbody>\n",
       "</table>"
      ],
      "text/plain": [
       "<IPython.core.display.HTML object>"
      ]
     },
     "metadata": {},
     "output_type": "display_data"
    }
   ],
   "source": [
    "learn.show_results()"
   ]
  },
  {
   "cell_type": "markdown",
   "id": "eca7ae6c",
   "metadata": {
    "papermill": {
     "duration": 0.014095,
     "end_time": "2025-01-05T20:45:34.485346",
     "exception": false,
     "start_time": "2025-01-05T20:45:34.471251",
     "status": "completed"
    },
    "tags": []
   },
   "source": [
    "# Zapisanie modeli"
   ]
  },
  {
   "cell_type": "code",
   "execution_count": 40,
   "id": "0fc685e6",
   "metadata": {
    "execution": {
     "iopub.execute_input": "2025-01-05T20:45:34.515308Z",
     "iopub.status.busy": "2025-01-05T20:45:34.514952Z",
     "iopub.status.idle": "2025-01-05T20:45:34.520648Z",
     "shell.execute_reply": "2025-01-05T20:45:34.519657Z"
    },
    "papermill": {
     "duration": 0.022485,
     "end_time": "2025-01-05T20:45:34.522126",
     "exception": false,
     "start_time": "2025-01-05T20:45:34.499641",
     "status": "completed"
    },
    "tags": []
   },
   "outputs": [
    {
     "name": "stdout",
     "output_type": "stream",
     "text": [
      "/kaggle/working\n"
     ]
    }
   ],
   "source": [
    "%cd /kaggle/working"
   ]
  },
  {
   "cell_type": "code",
   "execution_count": 41,
   "id": "ad03746b",
   "metadata": {
    "execution": {
     "iopub.execute_input": "2025-01-05T20:45:34.553117Z",
     "iopub.status.busy": "2025-01-05T20:45:34.552766Z",
     "iopub.status.idle": "2025-01-05T20:45:34.565996Z",
     "shell.execute_reply": "2025-01-05T20:45:34.565112Z"
    },
    "papermill": {
     "duration": 0.030498,
     "end_time": "2025-01-05T20:45:34.567566",
     "exception": false,
     "start_time": "2025-01-05T20:45:34.537068",
     "status": "completed"
    },
    "tags": []
   },
   "outputs": [],
   "source": [
    "import pickle\n",
    "\n",
    "with open('random_forest_drowsiness_model.pkl', 'wb') as fid:\n",
    "    pickle.dump(rf, fid)\n",
    "\n",
    "learn.export('nn_drowsiness_model.pkl')"
   ]
  }
 ],
 "metadata": {
  "kaggle": {
   "accelerator": "none",
   "dataSources": [
    {
     "datasetId": 6419822,
     "sourceId": 10365084,
     "sourceType": "datasetVersion"
    }
   ],
   "isGpuEnabled": false,
   "isInternetEnabled": true,
   "language": "python",
   "sourceType": "notebook"
  },
  "kernelspec": {
   "display_name": "Python 3",
   "language": "python",
   "name": "python3"
  },
  "language_info": {
   "codemirror_mode": {
    "name": "ipython",
    "version": 3
   },
   "file_extension": ".py",
   "mimetype": "text/x-python",
   "name": "python",
   "nbconvert_exporter": "python",
   "pygments_lexer": "ipython3",
   "version": "3.10.12"
  },
  "papermill": {
   "default_parameters": {},
   "duration": 33.122774,
   "end_time": "2025-01-05T20:45:36.307160",
   "environment_variables": {},
   "exception": null,
   "input_path": "__notebook__.ipynb",
   "output_path": "__notebook__.ipynb",
   "parameters": {},
   "start_time": "2025-01-05T20:45:03.184386",
   "version": "2.6.0"
  }
 },
 "nbformat": 4,
 "nbformat_minor": 5
}
